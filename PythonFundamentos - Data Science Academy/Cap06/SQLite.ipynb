{
 "cells": [
  {
   "cell_type": "code",
   "execution_count": 8,
   "metadata": {},
   "outputs": [],
   "source": [
    "import os\n",
    "os.remove('dsa.db') if os.path.exists('dsa.db') else None"
   ]
  },
  {
   "cell_type": "code",
   "execution_count": 34,
   "metadata": {},
   "outputs": [],
   "source": [
    "# Importando o módulo de acesso ao SQLite\n",
    "import sqlite3\n",
    "import random\n",
    "import time\n",
    "import datetime"
   ]
  },
  {
   "cell_type": "code",
   "execution_count": 57,
   "metadata": {},
   "outputs": [],
   "source": [
    "# Cria uma conexão com o banco de dados.\n",
    "# Se o banco de dados não existir, ele é criado neste momento.\n",
    "conn = sqlite3.connect('dsa.db')\n",
    "\n",
    "# Criando um cursor\n",
    "c = conn.cursor()\n",
    "\n",
    "# Função para criar uma tabela\n",
    "def create_table():\n",
    "    c.execute('CREATE TABLE IF NOT EXISTS produtos(' \\\n",
    "              'id INTEGER PRIMARY KEY AUTOINCREMENT NOT NULL, date TEXT,'\\\n",
    "              'prod_name TEXT, valor REAL)')\n",
    "    \n",
    "# Função para inserir uma linha\n",
    "def data_insert():\n",
    "    new_date = datetime.datetime.now()\n",
    "    new_prod_name = 'monitor'\n",
    "    new_valor = random.randrange(50,100)\n",
    "    c.execute(\"INSERT INTO produtos (date, prod_name, valor) VALUES (?, ?, ?)\", \n",
    "              (new_date, new_prod_name, new_valor))\n",
    "    conn.commit()\n",
    "    \n",
    "# Leitura de dados\n",
    "def leitura_todos_dados():\n",
    "    c.execute('SELECT * FROM produtos')\n",
    "    for linha in c.fetchall():\n",
    "        print(linha)\n",
    "        \n",
    "# Leitura de registros específicos\n",
    "def leitura_registros():\n",
    "    c.execute('SELECT * FROM produtos WHERE valor > 60.0')\n",
    "    for linha in c.fetchall():\n",
    "        print(linha)\n",
    "\n",
    "# Leitura de colunas específicos\n",
    "def leitura_colunas():\n",
    "    c.execute('SELECT * FROM produtos')\n",
    "    for linha in c.fetchall():\n",
    "        print(linha[3])\n",
    "        \n",
    "# Update\n",
    "def atualiza_dados():\n",
    "    c.execute('UPDATE produtos SET valor = 70.00 WHERE valor = 74.0')\n",
    "    conn.commit()\n",
    "    \n",
    "# Delete\n",
    "def remove_dados():\n",
    "    c.execute('DELETE FROM produtos WHERE valor = 68.0')\n",
    "    conn.commit()"
   ]
  },
  {
   "cell_type": "code",
   "execution_count": 36,
   "metadata": {},
   "outputs": [],
   "source": [
    "# Criar tabela\n",
    "create_table()"
   ]
  },
  {
   "cell_type": "code",
   "execution_count": 40,
   "metadata": {},
   "outputs": [],
   "source": [
    "# Gerando valores e inserindo na tabela\n",
    "for i in range(10):\n",
    "    data_insert()\n",
    "    time.sleep(1)"
   ]
  },
  {
   "cell_type": "code",
   "execution_count": 53,
   "metadata": {},
   "outputs": [],
   "source": [
    "atualiza_dados()"
   ]
  },
  {
   "cell_type": "code",
   "execution_count": 54,
   "metadata": {},
   "outputs": [
    {
     "name": "stdout",
     "output_type": "stream",
     "text": [
      "(10, '2020-06-07 19:18:11', 'Teclado', 90.0)\n",
      "(11, '2020-06-07 19:20:11', 'Mouse', 50.0)\n",
      "(12, '2020-06-07 20:16:51.235164', 'monitor', 70.0)\n",
      "(13, '2020-06-07 20:16:52.245246', 'monitor', 67.0)\n",
      "(14, '2020-06-07 20:16:53.253697', 'monitor', 59.0)\n",
      "(15, '2020-06-07 20:16:54.262597', 'monitor', 59.0)\n",
      "(16, '2020-06-07 20:16:55.271148', 'monitor', 68.0)\n",
      "(17, '2020-06-07 20:16:56.279909', 'monitor', 70.0)\n",
      "(18, '2020-06-07 20:16:57.288519', 'monitor', 77.0)\n",
      "(19, '2020-06-07 20:16:58.298673', 'monitor', 68.0)\n",
      "(20, '2020-06-07 20:16:59.307638', 'monitor', 99.0)\n",
      "(21, '2020-06-07 20:17:00.318019', 'monitor', 71.0)\n"
     ]
    }
   ],
   "source": [
    "# Select nos dados\n",
    "leitura_todos_dados()  "
   ]
  },
  {
   "cell_type": "code",
   "execution_count": 42,
   "metadata": {},
   "outputs": [
    {
     "name": "stdout",
     "output_type": "stream",
     "text": [
      "(10, '2020-06-07 19:18:11', 'Teclado', 90.0)\n",
      "(12, '2020-06-07 20:16:51.235164', 'monitor', 74.0)\n",
      "(13, '2020-06-07 20:16:52.245246', 'monitor', 67.0)\n",
      "(16, '2020-06-07 20:16:55.271148', 'monitor', 68.0)\n",
      "(17, '2020-06-07 20:16:56.279909', 'monitor', 70.0)\n",
      "(18, '2020-06-07 20:16:57.288519', 'monitor', 77.0)\n",
      "(19, '2020-06-07 20:16:58.298673', 'monitor', 68.0)\n",
      "(20, '2020-06-07 20:16:59.307638', 'monitor', 99.0)\n",
      "(21, '2020-06-07 20:17:00.318019', 'monitor', 71.0)\n"
     ]
    }
   ],
   "source": [
    "# Leitura de registros específicos > 60.00\n",
    "leitura_registros()"
   ]
  },
  {
   "cell_type": "code",
   "execution_count": 58,
   "metadata": {},
   "outputs": [],
   "source": [
    "remove_dados()"
   ]
  },
  {
   "cell_type": "code",
   "execution_count": 59,
   "metadata": {},
   "outputs": [
    {
     "name": "stdout",
     "output_type": "stream",
     "text": [
      "(10, '2020-06-07 19:18:11', 'Teclado', 90.0)\n",
      "(11, '2020-06-07 19:20:11', 'Mouse', 50.0)\n",
      "(12, '2020-06-07 20:16:51.235164', 'monitor', 70.0)\n",
      "(13, '2020-06-07 20:16:52.245246', 'monitor', 67.0)\n",
      "(14, '2020-06-07 20:16:53.253697', 'monitor', 59.0)\n",
      "(15, '2020-06-07 20:16:54.262597', 'monitor', 59.0)\n",
      "(17, '2020-06-07 20:16:56.279909', 'monitor', 70.0)\n",
      "(18, '2020-06-07 20:16:57.288519', 'monitor', 77.0)\n",
      "(20, '2020-06-07 20:16:59.307638', 'monitor', 99.0)\n",
      "(21, '2020-06-07 20:17:00.318019', 'monitor', 71.0)\n"
     ]
    }
   ],
   "source": [
    "leitura_todos_dados()"
   ]
  },
  {
   "cell_type": "code",
   "execution_count": 44,
   "metadata": {},
   "outputs": [
    {
     "name": "stdout",
     "output_type": "stream",
     "text": [
      "90.0\n",
      "50.0\n",
      "74.0\n",
      "67.0\n",
      "59.0\n",
      "59.0\n",
      "68.0\n",
      "70.0\n",
      "77.0\n",
      "68.0\n",
      "99.0\n",
      "71.0\n"
     ]
    }
   ],
   "source": [
    "# Leitura de colunas específicas - valor\n",
    "leitura_colunas()"
   ]
  },
  {
   "cell_type": "code",
   "execution_count": 15,
   "metadata": {},
   "outputs": [],
   "source": [
    "# Encerrando a conexão\n",
    "c.close()\n",
    "conn.close()"
   ]
  }
 ],
 "metadata": {
  "kernelspec": {
   "display_name": "Python 3",
   "language": "python",
   "name": "python3"
  },
  "language_info": {
   "codemirror_mode": {
    "name": "ipython",
    "version": 3
   },
   "file_extension": ".py",
   "mimetype": "text/x-python",
   "name": "python",
   "nbconvert_exporter": "python",
   "pygments_lexer": "ipython3",
   "version": "3.6.5"
  }
 },
 "nbformat": 4,
 "nbformat_minor": 2
}
