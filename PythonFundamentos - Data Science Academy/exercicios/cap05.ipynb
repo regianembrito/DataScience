{
 "cells": [
  {
   "cell_type": "code",
   "execution_count": 10,
   "metadata": {},
   "outputs": [
    {
     "name": "stdout",
     "output_type": "stream",
     "text": [
      "1 5\n",
      "3 8\n"
     ]
    }
   ],
   "source": [
    "# Exercício 1 - Crie um objeto a partir da classe abaixo, chamado roc1, passando 2 parâmetros e depois faça uma chamada\n",
    "# aos atributos e métodos\n",
    "from math import sqrt\n",
    "\n",
    "class Rocket():\n",
    "     \n",
    "    def __init__(self, x=0, y=0):\n",
    "        self.x = x\n",
    "        self.y = y\n",
    "        \n",
    "    def move_rocket(self, x_increment=0, y_increment=1):\n",
    "        self.x += x_increment\n",
    "        self.y += y_increment\n",
    "        \n",
    "    def print_rocket(self):\n",
    "        print(self.x, self.y)\n",
    "\n",
    "roc1 = Rocket(1, 5)\n",
    "roc1.x\n",
    "roc1.y\n",
    "roc1.print_rocket()\n",
    "roc1.move_rocket(2, 3)\n",
    "roc1.print_rocket()"
   ]
  },
  {
   "cell_type": "code",
   "execution_count": 60,
   "metadata": {},
   "outputs": [
    {
     "name": "stdout",
     "output_type": "stream",
     "text": [
      "Mudou para a cidade:  Toronto\n",
      "Mudou de telefone para:  34 9 9286-6168\n"
     ]
    },
    {
     "data": {
      "text/plain": [
       "'O usuário Regiane mora na cidade Toronto'"
      ]
     },
     "execution_count": 60,
     "metadata": {},
     "output_type": "execute_result"
    }
   ],
   "source": [
    "# Exercício 2 - Crie uma classe chamada Pessoa() com os atributos: nome, cidade, telefone e e-mail. Use pelo menos 2\n",
    "# métodos especiais na sua classe. Crie um objeto da sua classe e faça uma chamada a pelo menos um dos seus métodos\n",
    "# especiais.\n",
    "\n",
    "class Pessoa():\n",
    "\n",
    "    def __init__(self, nome, cidade, telefone, email):\n",
    "        self.nome = nome\n",
    "        self.cidade = cidade\n",
    "        self.telefone = telefone\n",
    "        self.email = email\n",
    "\n",
    "    def mudarCidade(self, cidade):\n",
    "        self.cidade = cidade\n",
    "        print(\"Mudou para a cidade: \", self.cidade)\n",
    "\n",
    "    def mudarTelefone(self, telefone):\n",
    "        self.telefone = telefone\n",
    "        print(\"Mudou de telefone para: \", telefone)\n",
    "\n",
    "    def __str__(self):\n",
    "        return \"O usuário \" + self.nome + \" mora na cidade \" + self.cidade\n",
    "\n",
    "\n",
    "pessoa = Pessoa(\"Regiane\", \"Uberlândia\", \"(34) 9 9682-3450\", \"regiane@gmail.com\")\n",
    "pessoa.mudarCidade(\"Toronto\")\n",
    "pessoa.mudarTelefone(\"34 9 9286-6168\")\n",
    "str(pessoa)"
   ]
  },
  {
   "cell_type": "code",
   "execution_count": 53,
   "metadata": {},
   "outputs": [
    {
     "name": "stdout",
     "output_type": "stream",
     "text": [
      "MP3Player criado: 6\", LCD, 64 GB\n"
     ]
    }
   ],
   "source": [
    "# Exercício 3 - Crie a classe Smartphone com 2 atributos, tamanho e interface e crie a classe MP3Player com os \n",
    "# atributos capacidade. A classe MP3player deve herdar os atributos da classe Smartphone.\n",
    "\n",
    "class Smartphone():\n",
    "\n",
    "    def __init__(self, tamanho, interface):\n",
    "        self.tamanho = tamanho\n",
    "        self.interface = interface\n",
    "\n",
    "class MP3Player(Smartphone):\n",
    "\n",
    "    def __init__(self, capacidade,tamanho = 'Pequeno', interface = 'Led'):\n",
    "        self.capacidade = capacidade\n",
    "        Smartphone.__init__(self, tamanho, interface)\n",
    "\n",
    "    def print(self):\n",
    "        print(\"MP3Player criado: %s, %s, %s\" %(self.tamanho, self.interface, self.capacidade))\n",
    "\n",
    "mp3 = MP3Player(\"64 GB\", '6\"', \"LCD\")\n",
    "mp3.print()"
   ]
  }
 ],
 "metadata": {
  "file_extension": ".py",
  "kernelspec": {
   "display_name": "Python 3.6.5 64-bit",
   "language": "python",
   "name": "python36564bit7fb0a0510807495fafb8555952bb35b3"
  },
  "language_info": {
   "codemirror_mode": {
    "name": "ipython",
    "version": 3
   },
   "name": "python",
   "version": "3.6.5-final"
  },
  "mimetype": "text/x-python",
  "name": "python",
  "npconvert_exporter": "python",
  "pygments_lexer": "ipython3",
  "version": 3
 },
 "nbformat": 4,
 "nbformat_minor": 2
}
