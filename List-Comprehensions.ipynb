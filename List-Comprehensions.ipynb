{
 "cells": [
  {
   "cell_type": "markdown",
   "metadata": {},
   "source": [
    "## Estudando List Comprehensions\n",
    "\n",
    "<strong>Vamos começar com conceitos básicos da lista em Python</strong>"
   ]
  },
  {
   "cell_type": "markdown",
   "metadata": {},
   "source": [
    "<strong>list.append(x):</strong> Adiciona um item ao fim da lista.  "
   ]
  },
  {
   "cell_type": "code",
   "execution_count": 99,
   "metadata": {},
   "outputs": [],
   "source": [
    "from IPython.display import Image"
   ]
  },
  {
   "cell_type": "code",
   "execution_count": 20,
   "metadata": {},
   "outputs": [
    {
     "name": "stdout",
     "output_type": "stream",
     "text": [
      "[1, 2, 3, 4]\n"
     ]
    }
   ],
   "source": [
    "lista = [1,2,3]\n",
    "lista.append(4)\n",
    "print(lista)"
   ]
  },
  {
   "cell_type": "markdown",
   "metadata": {},
   "source": [
    "<strong>list.extend(iterable):</strong> Adiciona todos os itens do iterable ao fim da lista."
   ]
  },
  {
   "cell_type": "code",
   "execution_count": 21,
   "metadata": {},
   "outputs": [
    {
     "name": "stdout",
     "output_type": "stream",
     "text": [
      "[1, 2, 3, 4, 5, 6, 7]\n"
     ]
    }
   ],
   "source": [
    "lista2 = [5,6,7]\n",
    "lista.extend(lista2)\n",
    "print(lista)"
   ]
  },
  {
   "cell_type": "markdown",
   "metadata": {},
   "source": [
    "<strong>list.insert(i, x):</strong> Insere um item em uma dada posição <strong>i</strong>."
   ]
  },
  {
   "cell_type": "code",
   "execution_count": 22,
   "metadata": {},
   "outputs": [
    {
     "name": "stdout",
     "output_type": "stream",
     "text": [
      "[8, 1, 2, 3, 4, 5, 6, 7]\n"
     ]
    }
   ],
   "source": [
    "lista.insert(0,8)\n",
    "print(lista)"
   ]
  },
  {
   "cell_type": "markdown",
   "metadata": {},
   "source": [
    "<strong>list.remove(x):</strong> Remove o primeiro elemento, cujo valor seja <strong>x</strong>."
   ]
  },
  {
   "cell_type": "code",
   "execution_count": 23,
   "metadata": {},
   "outputs": [
    {
     "name": "stdout",
     "output_type": "stream",
     "text": [
      "[1, 2, 3, 4, 5, 6, 7]\n"
     ]
    }
   ],
   "source": [
    "lista.remove(8)\n",
    "print(lista)"
   ]
  },
  {
   "cell_type": "markdown",
   "metadata": {},
   "source": [
    "<strong>list.pop(i):</strong> Remove o item de posição <strong>i</strong> da lista e o retorna."
   ]
  },
  {
   "cell_type": "code",
   "execution_count": 24,
   "metadata": {},
   "outputs": [
    {
     "data": {
      "text/plain": [
       "6"
      ]
     },
     "execution_count": 24,
     "metadata": {},
     "output_type": "execute_result"
    }
   ],
   "source": [
    "lista.pop(5)"
   ]
  },
  {
   "cell_type": "markdown",
   "metadata": {},
   "source": [
    "<strong>list.clear():</strong> Remove todos os elementos da lista."
   ]
  },
  {
   "cell_type": "code",
   "execution_count": 33,
   "metadata": {},
   "outputs": [
    {
     "name": "stdout",
     "output_type": "stream",
     "text": [
      "[]\n"
     ]
    }
   ],
   "source": [
    "lista.clear()\n",
    "print(lista)"
   ]
  },
  {
   "cell_type": "code",
   "execution_count": 34,
   "metadata": {},
   "outputs": [],
   "source": [
    "lista = [1, 2, 3, 4, 5, 6, 7]"
   ]
  },
  {
   "cell_type": "markdown",
   "metadata": {},
   "source": [
    "<strong>list.index(x[, start[, end]]):</strong> Retorna o índice do primeiro elemento cujo valor seja <trong>x</strong>."
   ]
  },
  {
   "cell_type": "code",
   "execution_count": 35,
   "metadata": {},
   "outputs": [
    {
     "data": {
      "text/plain": [
       "4"
      ]
     },
     "execution_count": 35,
     "metadata": {},
     "output_type": "execute_result"
    }
   ],
   "source": [
    "lista.index(5)"
   ]
  },
  {
   "cell_type": "markdown",
   "metadata": {},
   "source": [
    "<strong>list.count(x):</strong> Retorna o número de vezes que o valor <strong>x</strong> aparece na lista."
   ]
  },
  {
   "cell_type": "code",
   "execution_count": 38,
   "metadata": {},
   "outputs": [
    {
     "data": {
      "text/plain": [
       "3"
      ]
     },
     "execution_count": 38,
     "metadata": {},
     "output_type": "execute_result"
    }
   ],
   "source": [
    "lista = [1, 2, 6, 3, 6, 4, 5, 6, 7]\n",
    "lista.count(6)"
   ]
  },
  {
   "cell_type": "markdown",
   "metadata": {},
   "source": [
    "<strong>list.sort(key=None, reverse=False):</strong> Ordena os items da lista (os argumentos podem ser usados para customizar a ordenação). key costuma ser uma função de iteração."
   ]
  },
  {
   "cell_type": "code",
   "execution_count": 49,
   "metadata": {},
   "outputs": [
    {
     "name": "stdout",
     "output_type": "stream",
     "text": [
      "[7, 6, 6, 6, 5, 4, 3, 2, 1]\n"
     ]
    }
   ],
   "source": [
    "lista.sort(reverse=True)\n",
    "print(lista)"
   ]
  },
  {
   "cell_type": "markdown",
   "metadata": {},
   "source": [
    "<strong>list.copy():</strong> Retorna uma lista com a cópia dos elementos da lista de origem."
   ]
  },
  {
   "cell_type": "code",
   "execution_count": 52,
   "metadata": {},
   "outputs": [
    {
     "name": "stdout",
     "output_type": "stream",
     "text": [
      "[7, 6, 6, 6, 5, 4, 3, 2, 1]\n"
     ]
    }
   ],
   "source": [
    "listaCopy = lista.copy()\n",
    "print(listaCopy)"
   ]
  },
  {
   "cell_type": "markdown",
   "metadata": {},
   "source": [
    "## List Comprehensions (Compreensão de Listas)\n",
    "<strong>List Comprehension foi concebida na PEP 202 e é uma forma concisa de criar e manipular listas.</strong><br /><br />\n",
    "Sua sintaxe básica é:<br />\n"
   ]
  },
  {
   "cell_type": "code",
   "execution_count": null,
   "metadata": {},
   "outputs": [],
   "source": [
    "[expr for item in lista]"
   ]
  },
  {
   "cell_type": "markdown",
   "metadata": {},
   "source": [
    "Em outras palavras: aplique a expressão expr em cada item da lista.<br />\n",
    "Seguem exemplos."
   ]
  },
  {
   "cell_type": "code",
   "execution_count": 98,
   "metadata": {},
   "outputs": [
    {
     "name": "stdout",
     "output_type": "stream",
     "text": [
      "Lista Resultado: [0, 1, 4, 9, 16, 25, 36, 49, 64, 81]\n",
      "Lista Range: [0, 1, 2, 3, 4, 5, 6, 7, 8, 9]\n"
     ]
    }
   ],
   "source": [
    "lista = []\n",
    "listaRange = [] # Criada apenas para compreensão do item original\n",
    "for item in range(10):\n",
    "    lista.append(item**2) # Item elevado a potência de 2\n",
    "    listaRange.append(item)\n",
    "print(\"Lista Resultado:\", lista)\n",
    "print(\"Lista Range:\", listaRange)"
   ]
  },
  {
   "cell_type": "code",
   "execution_count": 97,
   "metadata": {},
   "outputs": [
    {
     "name": "stdout",
     "output_type": "stream",
     "text": [
      "Lista Resultado: [0, 1, 4, 9, 16, 25, 36, 49, 64, 81]\n",
      "Lista Range: [0, 1, 2, 3, 4, 5, 6, 7, 8, 9]\n"
     ]
    }
   ],
   "source": [
    "# O mesmo sendo feito com list comprehensions\n",
    "lista = [item**2 for item in range(10)]\n",
    "# Criada apenas para compreensão do item original\n",
    "listaRange = [item for item in range(10)] \n",
    "print(\"Lista Resultado:\", lista)\n",
    "print(\"Lista Range:\", listaRange)"
   ]
  },
  {
   "cell_type": "code",
   "execution_count": 96,
   "metadata": {},
   "outputs": [
    {
     "name": "stdout",
     "output_type": "stream",
     "text": [
      "Lista Resultado: ['SEJA', 'UM', 'CIENTISTA', 'DE', 'DADOS', 'POR', 'AMOR', 'E', 'NAO', 'POR', 'DINHEIRO']\n",
      "Lista Original: ['seja', 'um', 'cientista', 'de', 'dados', 'por', 'amor', 'e', 'nao', 'por', 'dinheiro']\n"
     ]
    }
   ],
   "source": [
    "lista = [\"seja\", \"um\", \"cientista\", \"de\", \"dados\", \"por\", \"amor\", \"e\", \"nao\", \"por\", \"dinheiro\"]\n",
    "resultado = []\n",
    "for item in lista:\n",
    "    resultado.append(str(item).upper())\n",
    "print(\"Lista Resultado:\", resultado)\n",
    "print(\"Lista Original:\", lista)"
   ]
  },
  {
   "cell_type": "code",
   "execution_count": 94,
   "metadata": {},
   "outputs": [
    {
     "name": "stdout",
     "output_type": "stream",
     "text": [
      "Lista Resultado: ['SEJA', 'UM', 'CIENTISTA', 'DE', 'DADOS', 'POR', 'AMOR', 'E', 'NAO', 'POR', 'DINHEIRO']\n",
      "Lista Original: ['seja', 'um', 'cientista', 'de', 'dados', 'por', 'amor', 'e', 'nao', 'por', 'dinheiro']\n"
     ]
    }
   ],
   "source": [
    "lista = [\"seja\", \"um\", \"cientista\", \"de\", \"dados\", \"por\", \"amor\", \"e\", \"nao\", \"por\", \"dinheiro\"]\n",
    "resultado = [str(item).upper() for item in lista]\n",
    "print(\"Lista Resultado:\", resultado)\n",
    "print(\"Lista Original:\", lista)"
   ]
  },
  {
   "cell_type": "markdown",
   "metadata": {},
   "source": [
    "## List Comprehensions com if\n",
    "<strong>List comprehensions podem utilizar expressões condicionais para criar listas ou modificar listas existentes.</strong><br /><br />\n",
    "Sua sintaxe básica é:"
   ]
  },
  {
   "cell_type": "code",
   "execution_count": null,
   "metadata": {},
   "outputs": [],
   "source": [
    "[expr for item in lista if cond]"
   ]
  },
  {
   "cell_type": "code",
   "execution_count": 84,
   "metadata": {},
   "outputs": [
    {
     "name": "stdout",
     "output_type": "stream",
     "text": [
      "[0, 2, 4, 6, 8]\n",
      "[0, 1, 2, 3, 4, 5, 6, 7, 8, 9]\n"
     ]
    }
   ],
   "source": [
    "resultado = [item for item in range(10) if item % 2 == 0]\n",
    "print(\"Lista Resultado:\", resultado)\n",
    "print(\"Lista Range:\", list(range(10))) # Lista de range original"
   ]
  },
  {
   "cell_type": "markdown",
   "metadata": {},
   "source": [
    "## List Comprehensions com vários if’s\n",
    "<strong>Podemos verificar condições em duas listas diferentes dentro da mesma list comprehension.</strong><br />\n",
    "\n",
    "Por exemplo: gostaríamos de saber os <strong>Múltiplos Comuns</strong> de 5 e 6.<br />\n",
    "\n",
    "Utilizando múltiplos if's e list comprehensions, podemos criar o seguinte código:"
   ]
  },
  {
   "cell_type": "code",
   "execution_count": 93,
   "metadata": {},
   "outputs": [
    {
     "name": "stdout",
     "output_type": "stream",
     "text": [
      "Lista Range: [0, 1, 2, 3, 4, 5, 6, 7, 8, 9, 10, 11, 12, 13, 14, 15, 16, 17, 18, 19, 20, 21, 22, 23, 24, 25, 26, 27, 28, 29, 30, 31, 32, 33, 34, 35, 36, 37, 38, 39, 40, 41, 42, 43, 44, 45, 46, 47, 48, 49, 50, 51, 52, 53, 54, 55, 56, 57, 58, 59, 60, 61, 62, 63, 64, 65, 66, 67, 68, 69, 70, 71, 72, 73, 74, 75, 76, 77, 78, 79, 80, 81, 82, 83, 84, 85, 86, 87, 88, 89, 90, 91, 92, 93, 94, 95, 96, 97, 98, 99]\n",
      "Lista Resultado: [0, 30, 60, 90]\n"
     ]
    }
   ],
   "source": [
    "resultado = [item for item in range(100) if item % 5 == 0 if item % 6 == 0]\n",
    "print(\"Lista Resultado:\", resultado)\n",
    "print(\"Lista Range:\", list(range(100)))"
   ]
  },
  {
   "cell_type": "markdown",
   "metadata": {},
   "source": [
    "## List Comprehensions com if + else\n",
    "Outra forma de se utilizar expressões condicionais e <strong>list</strong> comprehension é usar o conjunto <strong>if</strong> + <strong>else</strong>.\n",
    "\n",
    "A sintaxe básica para essa construção é:"
   ]
  },
  {
   "cell_type": "code",
   "execution_count": null,
   "metadata": {},
   "outputs": [],
   "source": [
    "[resultado_if if expr else resultado_else for item in lista]"
   ]
  },
  {
   "cell_type": "markdown",
   "metadata": {},
   "source": [
    "<strong>Em outras palavras:</strong> para cada item da lista, aplique o resultado resultado_if se a expressão expr <strong>for</strong> verdadeira, caso contrário, aplique resultado_else.\n",
    "\n",
    "Por exemplo, queremos criar uma lista que contenha “1” quando determinado número <strong>for</strong> múltiplo de 5 e “0” caso contrário.\n",
    "\n",
    "Podemos codificá-lo da seguinte forma:"
   ]
  },
  {
   "cell_type": "code",
   "execution_count": 91,
   "metadata": {},
   "outputs": [
    {
     "name": "stdout",
     "output_type": "stream",
     "text": [
      "Lista Resultado: ['1', '0', '0', '0', '0', '1', '0', '0', '0', '0', '1', '0', '0', '0', '0', '1']\n",
      "Lista Original: [0, 1, 2, 3, 4, 5, 6, 7, 8, 9, 10, 11, 12, 13, 14, 15]\n"
     ]
    }
   ],
   "source": [
    "resultado = ['1' if item % 5 == 0 else '0' for item in range(16)]\n",
    "print(\"Lista Resultado:\", resultado)\n",
    "print(\"Lista Original:\", list(range(16)))"
   ]
  },
  {
   "cell_type": "markdown",
   "metadata": {},
   "source": [
    "## Múltiplas List Comprehensions (aninhadas)\n",
    "\n",
    "É aqui que a brincadeira fica <strong>séria!</strong>\n",
    "\n",
    "Vamos supor que queiramos transpor uma matriz.\n",
    "\n",
    "Pra quem não lembra o que é a <strong>Transposição de uma Matriz</strong>, vamos relembrar:\n",
    "\n",
    "<i>Transpor uma matriz, significa transformar as linhas em colunas e vice-versa.</i>\n",
    "\n",
    "Ou seja, data a seguinte matriz:"
   ]
  },
  {
   "cell_type": "code",
   "execution_count": 104,
   "metadata": {},
   "outputs": [],
   "source": [
    "matriz = [\n",
    "    [1, 2, 3, 4],\n",
    "    [5, 6, 7, 8],\n",
    "    [9, 10, 11, 12]\n",
    "]"
   ]
  },
  {
   "cell_type": "markdown",
   "metadata": {},
   "source": [
    "Queremos o seguinte resultado:"
   ]
  },
  {
   "cell_type": "code",
   "execution_count": 101,
   "metadata": {},
   "outputs": [
    {
     "data": {
      "image/png": "[encoded data removed]",
      "text/plain": [
       "<IPython.core.display.Image object>"
      ]
     },
     "execution_count": 101,
     "metadata": {},
     "output_type": "execute_result"
    }
   ],
   "source": [
    "Image('arquivos/matrix-transposta.png')"
   ]
  },
  {
   "cell_type": "markdown",
   "metadata": {},
   "source": [
    "Você pode fazer isso do jeito tradicional, leia-se difícil:"
   ]
  },
  {
   "cell_type": "code",
   "execution_count": 108,
   "metadata": {},
   "outputs": [
    {
     "name": "stdout",
     "output_type": "stream",
     "text": [
      "Matriz Transposta: [[1, 5, 9], [2, 6, 10], [3, 7, 11], [4, 8, 12]]\n"
     ]
    }
   ],
   "source": [
    "transposta = []\n",
    "matriz = [\n",
    "    [1, 2, 3, 4],\n",
    "    [5, 6, 7, 8],\n",
    "    [9, 10, 11, 12]\n",
    "]\n",
    "\n",
    "for i in range(len(matriz[0])):\n",
    "    linha_transposta = []\n",
    "\n",
    "    for linha in matriz:\n",
    "        linha_transposta.append(linha[i])\n",
    "    transposta.append(linha_transposta)\n",
    "\n",
    "print(\"Matriz Transposta:\", transposta)"
   ]
  },
  {
   "cell_type": "markdown",
   "metadata": {},
   "source": [
    "Ou você pode usar o método <strong>list comprehension</strong>:"
   ]
  },
  {
   "cell_type": "code",
   "execution_count": 109,
   "metadata": {},
   "outputs": [
    {
     "name": "stdout",
     "output_type": "stream",
     "text": [
      "Matriz Transposta: [[1, 5, 9], [2, 6, 10], [3, 7, 11], [4, 8, 12]]\n"
     ]
    }
   ],
   "source": [
    "transposta = [[linha[i] for linha in matriz] for i in range(4)]\n",
    "print(\"Matriz Transposta:\", transposta)"
   ]
  },
  {
   "cell_type": "markdown",
   "metadata": {},
   "source": [
    "<strong>No código acima:</strong>\n",
    "\n",
    "* No primeiro loop, <strong>i</strong> assume o valor de 0, portanto [linha[0] for linha in matriz] vai retornar o primeiro elemento de cada linha: [1, 4, 9]\n",
    "\n",
    "* No segundo loop, <strong>i</strong> assume o valor de 1, portanto [linha[1] for linha in matriz] vai retornar o segundo elemento de cada linha: [2, 5, 10]\n",
    "\n",
    "* No terceiro loop, <strong>i</strong> assume o valor de 2, portanto [linha[2] for linha in matriz] vai retornar o terceiro elemento de cada linha: [3, 6, 11]\n",
    "\n",
    "* No quarto loop, <strong>i</strong> assume o valor de 3, portanto [linha[3] for linha in matriz] vai retornar o quarto elemento de cada linha: [4, 8, 12]"
   ]
  },
  {
   "cell_type": "markdown",
   "metadata": {},
   "source": [
    "## Conlusão\n",
    "\n",
    "<strong><i>List Comprehension</strog></i> é algo simples, mas precisa ser entendio e praticado. \n",
    "Como se trata de um conceito base para a construção de Redes Neurais, vale a pena gastar um tempo exercitando."
   ]
  },
  {
   "cell_type": "markdown",
   "metadata": {},
   "source": [
    "<strong><i>Fonte: https://pythonacademy.com.br/blog/list-comprehensions-no-python </strong></i>"
   ]
  }
 ],
 "metadata": {
  "file_extension": ".py",
  "kernelspec": {
   "display_name": "Python 3",
   "language": "python",
   "name": "python3"
  },
  "language_info": {
   "codemirror_mode": {
    "name": "ipython",
    "version": 3
   },
   "file_extension": ".py",
   "mimetype": "text/x-python",
   "name": "python",
   "nbconvert_exporter": "python",
   "pygments_lexer": "ipython3",
   "version": "3.6.5"
  },
  "mimetype": "text/x-python",
  "name": "python",
  "npconvert_exporter": "python",
  "pygments_lexer": "ipython3",
  "version": 3
 },
 "nbformat": 4,
 "nbformat_minor": 2
}
