{
 "cells": [
  {
   "cell_type": "markdown",
   "metadata": {},
   "source": [
    "Coleta de Dados MongoDB com R"
   ]
  },
  {
   "cell_type": "code",
   "execution_count": 1,
   "metadata": {},
   "outputs": [
    {
     "name": "stdout",
     "output_type": "stream",
     "text": [
      "package 'mongolite' successfully unpacked and MD5 sums checked\n"
     ]
    },
    {
     "name": "stderr",
     "output_type": "stream",
     "text": [
      "Warning message:\n",
      "\"cannot remove prior installation of package 'mongolite'\"Warning message in file.copy(savedcopy, lib, recursive = TRUE):\n",
      "\"problem copying C:\\Users\\regia\\Anaconda3\\envs\\dev\\Lib\\R\\library\\00LOCK\\mongolite\\libs\\x64\\mongolite.dll to C:\\Users\\regia\\Anaconda3\\envs\\dev\\Lib\\R\\library\\mongolite\\libs\\x64\\mongolite.dll: Permission denied\"Warning message:\n",
      "\"restored 'mongolite'\""
     ]
    },
    {
     "name": "stdout",
     "output_type": "stream",
     "text": [
      "\n",
      "The downloaded binary packages are in\n",
      "\tC:\\Users\\regia\\AppData\\Local\\Temp\\Rtmpw1kz6B\\downloaded_packages\n"
     ]
    }
   ],
   "source": [
    "install.packages('mongolite')"
   ]
  },
  {
   "cell_type": "code",
   "execution_count": 2,
   "metadata": {},
   "outputs": [
    {
     "name": "stderr",
     "output_type": "stream",
     "text": [
      "Loading required package: mongolite\n",
      "Warning message:\n",
      "\"package 'mongolite' was built under R version 3.6.3\""
     ]
    }
   ],
   "source": [
    "require(mongolite)"
   ]
  },
  {
   "cell_type": "code",
   "execution_count": 3,
   "metadata": {},
   "outputs": [
    {
     "name": "stderr",
     "output_type": "stream",
     "text": [
      "Registered S3 method overwritten by 'openssl':\n",
      "  method      from\n",
      "  print.bytes Rcpp\n"
     ]
    }
   ],
   "source": [
    "iris <- mongo(collection = 'igti', db = 'igti', url = 'mongodb://localhost')"
   ]
  },
  {
   "cell_type": "code",
   "execution_count": 4,
   "metadata": {},
   "outputs": [
    {
     "data": {
      "text/plain": [
       "List of 6\n",
       " $ nInserted  : int 3\n",
       " $ nMatched   : int 0\n",
       " $ nModified  : int 0\n",
       " $ nRemoved   : int 0\n",
       " $ nUpserted  : int 0\n",
       " $ writeErrors: list()"
      ]
     },
     "metadata": {},
     "output_type": "display_data"
    }
   ],
   "source": [
    "pessoas <- mongo(collection='pessoas', db='igti', url='mongodb://localhost')\n",
    "str <- c('{\"nome\" : \"maria\"}', '{\"nome\" : \"ana\", \"idade\" : 23}', '{\"nome\" : \"joão\"}')\n",
    "pessoas$insert(str)"
   ]
  },
  {
   "cell_type": "code",
   "execution_count": 5,
   "metadata": {},
   "outputs": [
    {
     "data": {
      "text/html": [
       "<table>\n",
       "<thead><tr><th scope=col>nome</th><th scope=col>idade</th></tr></thead>\n",
       "<tbody>\n",
       "\t<tr><td>maria</td><td>NA   </td></tr>\n",
       "\t<tr><td>ana  </td><td>23   </td></tr>\n",
       "\t<tr><td>joão </td><td>NA   </td></tr>\n",
       "</tbody>\n",
       "</table>\n"
      ],
      "text/latex": [
       "\\begin{tabular}{r|ll}\n",
       " nome & idade\\\\\n",
       "\\hline\n",
       "\t maria & NA   \\\\\n",
       "\t ana   & 23   \\\\\n",
       "\t joão  & NA   \\\\\n",
       "\\end{tabular}\n"
      ],
      "text/markdown": [
       "\n",
       "| nome | idade |\n",
       "|---|---|\n",
       "| maria | NA    |\n",
       "| ana   | 23    |\n",
       "| joão  | NA    |\n",
       "\n"
      ],
      "text/plain": [
       "  nome  idade\n",
       "1 maria NA   \n",
       "2 ana   23   \n",
       "3 joão  NA   "
      ]
     },
     "metadata": {},
     "output_type": "display_data"
    }
   ],
   "source": [
    "pessoas$find()"
   ]
  },
  {
   "cell_type": "code",
   "execution_count": 6,
   "metadata": {},
   "outputs": [
    {
     "data": {
      "text/html": [
       "3"
      ],
      "text/latex": [
       "3"
      ],
      "text/markdown": [
       "3"
      ],
      "text/plain": [
       "[1] 3"
      ]
     },
     "metadata": {},
     "output_type": "display_data"
    }
   ],
   "source": [
    "pessoas$count()"
   ]
  },
  {
   "cell_type": "code",
   "execution_count": 7,
   "metadata": {},
   "outputs": [
    {
     "data": {
      "text/html": [
       "2"
      ],
      "text/latex": [
       "2"
      ],
      "text/markdown": [
       "2"
      ],
      "text/plain": [
       "[1] 2"
      ]
     },
     "metadata": {},
     "output_type": "display_data"
    }
   ],
   "source": [
    "pessoas$remove('{\"idade\": 23}')\n",
    "pessoas$count()"
   ]
  },
  {
   "cell_type": "code",
   "execution_count": 8,
   "metadata": {},
   "outputs": [
    {
     "data": {
      "text/html": [
       "<table>\n",
       "<thead><tr><th scope=col>nome</th></tr></thead>\n",
       "<tbody>\n",
       "\t<tr><td>maria</td></tr>\n",
       "\t<tr><td>joão </td></tr>\n",
       "</tbody>\n",
       "</table>\n"
      ],
      "text/latex": [
       "\\begin{tabular}{r|l}\n",
       " nome\\\\\n",
       "\\hline\n",
       "\t maria\\\\\n",
       "\t joão \\\\\n",
       "\\end{tabular}\n"
      ],
      "text/markdown": [
       "\n",
       "| nome |\n",
       "|---|\n",
       "| maria |\n",
       "| joão  |\n",
       "\n"
      ],
      "text/plain": [
       "  nome \n",
       "1 maria\n",
       "2 joão "
      ]
     },
     "metadata": {},
     "output_type": "display_data"
    }
   ],
   "source": [
    "pessoas$find()"
   ]
  },
  {
   "cell_type": "code",
   "execution_count": 9,
   "metadata": {},
   "outputs": [
    {
     "data": {
      "text/plain": [
       "List of 6\n",
       " $ nInserted  : int 3\n",
       " $ nMatched   : int 0\n",
       " $ nModified  : int 0\n",
       " $ nRemoved   : int 0\n",
       " $ nUpserted  : int 0\n",
       " $ writeErrors: list()"
      ]
     },
     "metadata": {},
     "output_type": "display_data"
    }
   ],
   "source": [
    "str <- c('{\"nome\" : \"bill\"}', '{\"nome\": \"anna\", \"idade\": 23}', '{\"nome\" : \"jose\", \"idade\" : 35}')\n",
    "pessoas$insert(str)"
   ]
  },
  {
   "cell_type": "code",
   "execution_count": 10,
   "metadata": {},
   "outputs": [
    {
     "data": {
      "text/html": [
       "<table>\n",
       "<thead><tr><th scope=col>nome</th><th scope=col>idade</th></tr></thead>\n",
       "<tbody>\n",
       "\t<tr><td>maria</td><td>NA   </td></tr>\n",
       "\t<tr><td>joão </td><td>NA   </td></tr>\n",
       "\t<tr><td>bill </td><td>NA   </td></tr>\n",
       "\t<tr><td>anna </td><td>23   </td></tr>\n",
       "\t<tr><td>jose </td><td>35   </td></tr>\n",
       "</tbody>\n",
       "</table>\n"
      ],
      "text/latex": [
       "\\begin{tabular}{r|ll}\n",
       " nome & idade\\\\\n",
       "\\hline\n",
       "\t maria & NA   \\\\\n",
       "\t joão  & NA   \\\\\n",
       "\t bill  & NA   \\\\\n",
       "\t anna  & 23   \\\\\n",
       "\t jose  & 35   \\\\\n",
       "\\end{tabular}\n"
      ],
      "text/markdown": [
       "\n",
       "| nome | idade |\n",
       "|---|---|\n",
       "| maria | NA    |\n",
       "| joão  | NA    |\n",
       "| bill  | NA    |\n",
       "| anna  | 23    |\n",
       "| jose  | 35    |\n",
       "\n"
      ],
      "text/plain": [
       "  nome  idade\n",
       "1 maria NA   \n",
       "2 joão  NA   \n",
       "3 bill  NA   \n",
       "4 anna  23   \n",
       "5 jose  35   "
      ]
     },
     "metadata": {},
     "output_type": "display_data"
    }
   ],
   "source": [
    "pessoas$find()"
   ]
  },
  {
   "cell_type": "code",
   "execution_count": 11,
   "metadata": {},
   "outputs": [
    {
     "data": {
      "text/plain": [
       "List of 3\n",
       " $ modifiedCount: int 1\n",
       " $ matchedCount : int 1\n",
       " $ upsertedCount: int 0"
      ]
     },
     "metadata": {},
     "output_type": "display_data"
    },
    {
     "data": {
      "text/html": [
       "<table>\n",
       "<thead><tr><th scope=col>nome</th><th scope=col>idade</th></tr></thead>\n",
       "<tbody>\n",
       "\t<tr><td>maria</td><td>NA   </td></tr>\n",
       "\t<tr><td>joão </td><td>NA   </td></tr>\n",
       "\t<tr><td>bill </td><td>21   </td></tr>\n",
       "\t<tr><td>anna </td><td>23   </td></tr>\n",
       "\t<tr><td>jose </td><td>35   </td></tr>\n",
       "</tbody>\n",
       "</table>\n"
      ],
      "text/latex": [
       "\\begin{tabular}{r|ll}\n",
       " nome & idade\\\\\n",
       "\\hline\n",
       "\t maria & NA   \\\\\n",
       "\t joão  & NA   \\\\\n",
       "\t bill  & 21   \\\\\n",
       "\t anna  & 23   \\\\\n",
       "\t jose  & 35   \\\\\n",
       "\\end{tabular}\n"
      ],
      "text/markdown": [
       "\n",
       "| nome | idade |\n",
       "|---|---|\n",
       "| maria | NA    |\n",
       "| joão  | NA    |\n",
       "| bill  | 21    |\n",
       "| anna  | 23    |\n",
       "| jose  | 35    |\n",
       "\n"
      ],
      "text/plain": [
       "  nome  idade\n",
       "1 maria NA   \n",
       "2 joão  NA   \n",
       "3 bill  21   \n",
       "4 anna  23   \n",
       "5 jose  35   "
      ]
     },
     "metadata": {},
     "output_type": "display_data"
    }
   ],
   "source": [
    "pessoas$update('{\"nome\" : \"bill\"}', '{\"$set\":{\"idade\" : 21}}')\n",
    "pessoas$find()"
   ]
  },
  {
   "cell_type": "markdown",
   "metadata": {},
   "source": [
    "Aula 3.5. Coleta de dados NoSQL: Exemplo utilizando a linguagem R"
   ]
  },
  {
   "cell_type": "code",
   "execution_count": 4,
   "metadata": {},
   "outputs": [],
   "source": [
    "pessoas <- mongo(collection = 'pessoas', db = 'igti', url = 'mongodb://localhost')"
   ]
  },
  {
   "cell_type": "code",
   "execution_count": 5,
   "metadata": {},
   "outputs": [
    {
     "data": {
      "text/html": [
       "5"
      ],
      "text/latex": [
       "5"
      ],
      "text/markdown": [
       "5"
      ],
      "text/plain": [
       "[1] 5"
      ]
     },
     "metadata": {},
     "output_type": "display_data"
    }
   ],
   "source": [
    "pessoas$count()"
   ]
  },
  {
   "cell_type": "code",
   "execution_count": 6,
   "metadata": {},
   "outputs": [],
   "source": [
    "pessoas.df <-pessoas$find()"
   ]
  },
  {
   "cell_type": "code",
   "execution_count": 7,
   "metadata": {},
   "outputs": [
    {
     "name": "stdout",
     "output_type": "stream",
     "text": [
      "[1] \"Número de colunas:  2\"\n",
      "[1] \"Número de linhas:  5\"\n",
      "[1] \"Tamanho:  2\"\n"
     ]
    }
   ],
   "source": [
    "print(paste('Número de colunas: ', ncol(pessoas.df)))\n",
    "print(paste('Número de linhas: ', nrow(pessoas.df)))\n",
    "print(paste('Tamanho: ', length(pessoas.df)))"
   ]
  },
  {
   "cell_type": "code",
   "execution_count": 8,
   "metadata": {},
   "outputs": [
    {
     "data": {
      "text/html": [
       "<table>\n",
       "<thead><tr><th scope=col>nome</th><th scope=col>idade</th></tr></thead>\n",
       "<tbody>\n",
       "\t<tr><td>maria</td><td>NA   </td></tr>\n",
       "\t<tr><td>joão </td><td>NA   </td></tr>\n",
       "\t<tr><td>bill </td><td>21   </td></tr>\n",
       "\t<tr><td>anna </td><td>23   </td></tr>\n",
       "\t<tr><td>jose </td><td>35   </td></tr>\n",
       "</tbody>\n",
       "</table>\n"
      ],
      "text/latex": [
       "\\begin{tabular}{r|ll}\n",
       " nome & idade\\\\\n",
       "\\hline\n",
       "\t maria & NA   \\\\\n",
       "\t joão  & NA   \\\\\n",
       "\t bill  & 21   \\\\\n",
       "\t anna  & 23   \\\\\n",
       "\t jose  & 35   \\\\\n",
       "\\end{tabular}\n"
      ],
      "text/markdown": [
       "\n",
       "| nome | idade |\n",
       "|---|---|\n",
       "| maria | NA    |\n",
       "| joão  | NA    |\n",
       "| bill  | 21    |\n",
       "| anna  | 23    |\n",
       "| jose  | 35    |\n",
       "\n"
      ],
      "text/plain": [
       "  nome  idade\n",
       "1 maria NA   \n",
       "2 joão  NA   \n",
       "3 bill  21   \n",
       "4 anna  23   \n",
       "5 jose  35   "
      ]
     },
     "metadata": {},
     "output_type": "display_data"
    }
   ],
   "source": [
    "head(pessoas.df)"
   ]
  },
  {
   "cell_type": "code",
   "execution_count": 9,
   "metadata": {},
   "outputs": [
    {
     "name": "stdout",
     "output_type": "stream",
     "text": [
      "[1] \"1\" \"2\" \"3\" \"4\" \"5\"\n"
     ]
    }
   ],
   "source": [
    "print(rownames(pessoas.df))"
   ]
  },
  {
   "cell_type": "code",
   "execution_count": 10,
   "metadata": {},
   "outputs": [
    {
     "name": "stdout",
     "output_type": "stream",
     "text": [
      "[1] \"nome\"  \"idade\"\n"
     ]
    }
   ],
   "source": [
    "print(colnames(pessoas.df))"
   ]
  },
  {
   "cell_type": "code",
   "execution_count": 13,
   "metadata": {},
   "outputs": [],
   "source": [
    "write.csv(pessoas.df, 'C:/DataScience/BootCamp/Datasets/CSV/pessoasFromMongo.csv', row.names=FALSE)"
   ]
  },
  {
   "cell_type": "code",
   "execution_count": 14,
   "metadata": {},
   "outputs": [
    {
     "data": {
      "text/html": [
       "<table>\n",
       "<thead><tr><th scope=col>nome</th><th scope=col>idade</th></tr></thead>\n",
       "<tbody>\n",
       "\t<tr><td>maria</td><td>NA   </td></tr>\n",
       "\t<tr><td>joão </td><td>NA   </td></tr>\n",
       "\t<tr><td>bill </td><td>21   </td></tr>\n",
       "\t<tr><td>anna </td><td>23   </td></tr>\n",
       "\t<tr><td>jose </td><td>35   </td></tr>\n",
       "</tbody>\n",
       "</table>\n"
      ],
      "text/latex": [
       "\\begin{tabular}{r|ll}\n",
       " nome & idade\\\\\n",
       "\\hline\n",
       "\t maria & NA   \\\\\n",
       "\t joão  & NA   \\\\\n",
       "\t bill  & 21   \\\\\n",
       "\t anna  & 23   \\\\\n",
       "\t jose  & 35   \\\\\n",
       "\\end{tabular}\n"
      ],
      "text/markdown": [
       "\n",
       "| nome | idade |\n",
       "|---|---|\n",
       "| maria | NA    |\n",
       "| joão  | NA    |\n",
       "| bill  | 21    |\n",
       "| anna  | 23    |\n",
       "| jose  | 35    |\n",
       "\n"
      ],
      "text/plain": [
       "  nome  idade\n",
       "1 maria NA   \n",
       "2 joão  NA   \n",
       "3 bill  21   \n",
       "4 anna  23   \n",
       "5 jose  35   "
      ]
     },
     "metadata": {},
     "output_type": "display_data"
    }
   ],
   "source": [
    "pessoas.df2 <- pessoas.df\n",
    "head(pessoas.df2)"
   ]
  },
  {
   "cell_type": "code",
   "execution_count": 15,
   "metadata": {},
   "outputs": [
    {
     "name": "stdout",
     "output_type": "stream",
     "text": [
      "[1] \"nome\"  \"idade\"\n"
     ]
    }
   ],
   "source": [
    "print(colnames(pessoas.df2))"
   ]
  },
  {
   "cell_type": "code",
   "execution_count": null,
   "metadata": {},
   "outputs": [],
   "source": [
    "# remover colunas\n",
    "#pessoas.df2$Id <- NULL"
   ]
  },
  {
   "cell_type": "code",
   "execution_count": 17,
   "metadata": {},
   "outputs": [
    {
     "name": "stdout",
     "output_type": "stream",
     "text": [
      "[1] \"name\" \"age\" \n"
     ]
    }
   ],
   "source": [
    "# Renomear colunas\n",
    "colnames(pessoas.df2)[1] <- \"name\"\n",
    "colnames(pessoas.df2)[2] <- \"age\"\n",
    "print(colnames(pessoas.df2))"
   ]
  },
  {
   "cell_type": "code",
   "execution_count": 18,
   "metadata": {},
   "outputs": [
    {
     "data": {
      "text/plain": [
       "     name                age       \n",
       " Length:5           Min.   :21.00  \n",
       " Class :character   1st Qu.:22.00  \n",
       " Mode  :character   Median :23.00  \n",
       "                    Mean   :26.33  \n",
       "                    3rd Qu.:29.00  \n",
       "                    Max.   :35.00  \n",
       "                    NA's   :2      "
      ]
     },
     "metadata": {},
     "output_type": "display_data"
    }
   ],
   "source": [
    "# Equivalente ao shape no Python\n",
    "summary(pessoas.df2)"
   ]
  },
  {
   "cell_type": "code",
   "execution_count": 24,
   "metadata": {},
   "outputs": [
    {
     "name": "stderr",
     "output_type": "stream",
     "text": [
      "Warning message in plot.window(xlim, ylim, log = log, ...):\n",
      "\"\"xlam\" is not a graphical parameter\"Warning message in axis(if (horiz) 2 else 1, at = at.l, labels = names.arg, lty = axis.lty, :\n",
      "\"\"xlam\" is not a graphical parameter\"Warning message in title(main = main, sub = sub, xlab = xlab, ylab = ylab, ...):\n",
      "\"\"xlam\" is not a graphical parameter\"Warning message in axis(if (horiz) 1 else 2, cex.axis = cex.axis, ...):\n",
      "\"\"xlam\" is not a graphical parameter\""
     ]
    },
    {
     "data": {
      "image/png": "[encoded data removed]",
      "text/plain": [
       "plot without title"
      ]
     },
     "metadata": {},
     "output_type": "display_data"
    }
   ],
   "source": [
    "barplot(pessoas.df2$age,  ylab=\"Idades\", xlam=\"Nome\",\n",
    "       names=as.character(pessoas.df2$age),cex.names=0.7, \n",
    "       ylim=c(0,10), col=2)"
   ]
  },
  {
   "cell_type": "code",
   "execution_count": 25,
   "metadata": {},
   "outputs": [
    {
     "name": "stdout",
     "output_type": "stream",
     "text": [
      "{ \"_id\" : { \"$oid\" : \"5f25749ef35a000058006012\" }, \"nome\" : \"maria\" }\n",
      "{ \"_id\" : { \"$oid\" : \"5f25749ef35a000058006014\" }, \"nome\" : \"joão\" }\n",
      "{ \"_id\" : { \"$oid\" : \"5f257571f35a000058006015\" }, \"nome\" : \"bill\", \"idade\" : 21 }\n",
      "{ \"_id\" : { \"$oid\" : \"5f257571f35a000058006016\" }, \"nome\" : \"anna\", \"idade\" : 23 }\n",
      "{ \"_id\" : { \"$oid\" : \"5f257571f35a000058006017\" }, \"nome\" : \"jose\", \"idade\" : 35 }\n"
     ]
    }
   ],
   "source": [
    "pessoas$export(stdout())"
   ]
  },
  {
   "cell_type": "code",
   "execution_count": 27,
   "metadata": {},
   "outputs": [],
   "source": [
    "pessoas$export(file('dumpPessoas.json'))"
   ]
  },
  {
   "cell_type": "code",
   "execution_count": 28,
   "metadata": {},
   "outputs": [],
   "source": [
    "pessoas$export(file('C:/DataScience/BootCamp/Datasets/JSON/dumpPessoas.json'))"
   ]
  },
  {
   "cell_type": "code",
   "execution_count": 29,
   "metadata": {},
   "outputs": [],
   "source": [
    "pessoasDump <- mongo(collection = 'pessoasDump', db = 'igti', url='mongodb://localhost')"
   ]
  },
  {
   "cell_type": "code",
   "execution_count": 31,
   "metadata": {},
   "outputs": [],
   "source": [
    "# Importar\n",
    "pessoasDump$import(file('C:/DataScience/BootCamp/Datasets/JSON/dumpPessoas.json'))"
   ]
  },
  {
   "cell_type": "code",
   "execution_count": 32,
   "metadata": {},
   "outputs": [
    {
     "data": {
      "text/html": [
       "5"
      ],
      "text/latex": [
       "5"
      ],
      "text/markdown": [
       "5"
      ],
      "text/plain": [
       "[1] 5"
      ]
     },
     "metadata": {},
     "output_type": "display_data"
    }
   ],
   "source": [
    "pessoasDump$count()"
   ]
  },
  {
   "cell_type": "code",
   "execution_count": 34,
   "metadata": {},
   "outputs": [
    {
     "data": {
      "text/html": [
       "<table>\n",
       "<thead><tr><th scope=col>nome</th><th scope=col>idade</th></tr></thead>\n",
       "<tbody>\n",
       "\t<tr><td>maria</td><td>NA   </td></tr>\n",
       "\t<tr><td>joão </td><td>NA   </td></tr>\n",
       "\t<tr><td>bill </td><td>21   </td></tr>\n",
       "</tbody>\n",
       "</table>\n"
      ],
      "text/latex": [
       "\\begin{tabular}{r|ll}\n",
       " nome & idade\\\\\n",
       "\\hline\n",
       "\t maria & NA   \\\\\n",
       "\t joão  & NA   \\\\\n",
       "\t bill  & 21   \\\\\n",
       "\\end{tabular}\n"
      ],
      "text/markdown": [
       "\n",
       "| nome | idade |\n",
       "|---|---|\n",
       "| maria | NA    |\n",
       "| joão  | NA    |\n",
       "| bill  | 21    |\n",
       "\n"
      ],
      "text/plain": [
       "  nome  idade\n",
       "1 maria NA   \n",
       "2 joão  NA   \n",
       "3 bill  21   "
      ]
     },
     "metadata": {},
     "output_type": "display_data"
    }
   ],
   "source": [
    "pessoasDump$find(limit=3)"
   ]
  },
  {
   "cell_type": "code",
   "execution_count": 35,
   "metadata": {},
   "outputs": [],
   "source": [
    "rm(pessoasDump)"
   ]
  },
  {
   "cell_type": "code",
   "execution_count": 36,
   "metadata": {},
   "outputs": [],
   "source": [
    "pessoas$disconnect()"
   ]
  },
  {
   "cell_type": "code",
   "execution_count": 37,
   "metadata": {},
   "outputs": [],
   "source": [
    "pessoas$disconnect(gc = TRUE)"
   ]
  }
 ],
 "metadata": {
  "kernelspec": {
   "display_name": "R",
   "language": "R",
   "name": "ir"
  },
  "language_info": {
   "codemirror_mode": "r",
   "file_extension": ".r",
   "mimetype": "text/x-r-source",
   "name": "R",
   "pygments_lexer": "r",
   "version": "3.6.1"
  }
 },
 "nbformat": 4,
 "nbformat_minor": 4
}
