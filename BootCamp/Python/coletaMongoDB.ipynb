{
 "cells": [
  {
   "cell_type": "code",
   "execution_count": 3,
   "metadata": {},
   "outputs": [],
   "source": [
    "import pymongo"
   ]
  },
  {
   "cell_type": "code",
   "execution_count": 3,
   "metadata": {},
   "outputs": [],
   "source": [
    "con = pymongo.MongoClient('localhost', 27017)"
   ]
  },
  {
   "cell_type": "code",
   "execution_count": 4,
   "metadata": {},
   "outputs": [
    {
     "output_type": "execute_result",
     "data": {
      "text/plain": "['admin', 'cadastrodb', 'config', 'igti', 'local', 'twitterdb']"
     },
     "metadata": {},
     "execution_count": 4
    }
   ],
   "source": [
    "con.list_database_names()"
   ]
  },
  {
   "cell_type": "code",
   "execution_count": 5,
   "metadata": {},
   "outputs": [],
   "source": [
    "db = con.igti"
   ]
  },
  {
   "cell_type": "code",
   "execution_count": 6,
   "metadata": {},
   "outputs": [
    {
     "output_type": "execute_result",
     "data": {
      "text/plain": "['pessoasDump', 'pessoas', 'iris']"
     },
     "metadata": {},
     "execution_count": 6
    }
   ],
   "source": [
    "db.list_collection_names()"
   ]
  },
  {
   "cell_type": "code",
   "execution_count": 7,
   "metadata": {},
   "outputs": [],
   "source": [
    "collection = db.pessoas"
   ]
  },
  {
   "cell_type": "code",
   "execution_count": 8,
   "metadata": {},
   "outputs": [
    {
     "output_type": "execute_result",
     "data": {
      "text/plain": "MongoClient(host=['localhost:27017'], document_class=dict, tz_aware=False, connect=True)"
     },
     "metadata": {},
     "execution_count": 8
    }
   ],
   "source": [
    "con"
   ]
  },
  {
   "cell_type": "code",
   "execution_count": 9,
   "metadata": {},
   "outputs": [
    {
     "output_type": "execute_result",
     "data": {
      "text/plain": "Database(MongoClient(host=['localhost:27017'], document_class=dict, tz_aware=False, connect=True), 'igti')"
     },
     "metadata": {},
     "execution_count": 9
    }
   ],
   "source": [
    "db"
   ]
  },
  {
   "cell_type": "code",
   "execution_count": 10,
   "metadata": {},
   "outputs": [
    {
     "output_type": "execute_result",
     "data": {
      "text/plain": "['pessoasDump', 'pessoas', 'iris']"
     },
     "metadata": {},
     "execution_count": 10
    }
   ],
   "source": [
    "db.list_collection_names()"
   ]
  },
  {
   "cell_type": "code",
   "execution_count": 11,
   "metadata": {},
   "outputs": [
    {
     "output_type": "execute_result",
     "data": {
      "text/plain": "{'_id': ObjectId('5f25749ef35a000058006012'), 'nome': 'maria'}"
     },
     "metadata": {},
     "execution_count": 11
    }
   ],
   "source": [
    "collection.find_one()"
   ]
  },
  {
   "cell_type": "code",
   "execution_count": 18,
   "metadata": {
    "tags": []
   },
   "outputs": [
    {
     "output_type": "stream",
     "name": "stdout",
     "text": "{'_id': ObjectId('5f25749ef35a000058006012'), 'nome': 'maria'}\n"
    }
   ],
   "source": [
    "print(collection.find_one({\"nome\": \"maria\"}))"
   ]
  },
  {
   "cell_type": "code",
   "execution_count": 21,
   "metadata": {},
   "outputs": [],
   "source": [
    "import pprint"
   ]
  },
  {
   "cell_type": "code",
   "execution_count": 22,
   "metadata": {
    "tags": []
   },
   "outputs": [
    {
     "output_type": "stream",
     "name": "stdout",
     "text": "{'_id': ObjectId('5f25749ef35a000058006012'), 'nome': 'maria'}\n"
    }
   ],
   "source": [
    "pprint.pprint(collection.find_one({\"nome\": \"maria\"}))"
   ]
  },
  {
   "cell_type": "code",
   "execution_count": 24,
   "metadata": {
    "tags": []
   },
   "outputs": [
    {
     "output_type": "stream",
     "name": "stdout",
     "text": "{'_id': ObjectId('5f25749ef35a000058006012'), 'nome': 'maria'}\n"
    }
   ],
   "source": [
    "for documents in collection.find({\"nome\": \"maria\"}):\n",
    "    pprint.pprint(documents)"
   ]
  },
  {
   "cell_type": "code",
   "execution_count": 26,
   "metadata": {},
   "outputs": [],
   "source": [
    "db = con['Vendas']"
   ]
  },
  {
   "cell_type": "code",
   "execution_count": 28,
   "metadata": {},
   "outputs": [],
   "source": [
    "colecao = db['clientes']"
   ]
  },
  {
   "cell_type": "code",
   "execution_count": 31,
   "metadata": {},
   "outputs": [],
   "source": [
    "documento = {'nome' : 'maria', 'idade' : 23}"
   ]
  },
  {
   "cell_type": "code",
   "execution_count": 36,
   "metadata": {},
   "outputs": [],
   "source": [
    "resultado = colecao.insert_one(documento)"
   ]
  },
  {
   "cell_type": "code",
   "execution_count": 35,
   "metadata": {
    "tags": []
   },
   "outputs": [
    {
     "output_type": "stream",
     "name": "stdout",
     "text": "<pymongo.results.InsertOneResult object at 0x000001D70E23F308>\n"
    }
   ],
   "source": [
    "print(resultado)"
   ]
  },
  {
   "cell_type": "code",
   "execution_count": 37,
   "metadata": {},
   "outputs": [
    {
     "output_type": "execute_result",
     "data": {
      "text/plain": "['Vendas', 'admin', 'cadastrodb', 'config', 'igti', 'local', 'twitterdb']"
     },
     "metadata": {},
     "execution_count": 37
    }
   ],
   "source": [
    "con.list_database_names()"
   ]
  },
  {
   "cell_type": "code",
   "execution_count": 38,
   "metadata": {},
   "outputs": [
    {
     "output_type": "execute_result",
     "data": {
      "text/plain": "['clientes']"
     },
     "metadata": {},
     "execution_count": 38
    }
   ],
   "source": [
    "db.list_collection_names()"
   ]
  },
  {
   "cell_type": "code",
   "execution_count": 39,
   "metadata": {
    "tags": []
   },
   "outputs": [
    {
     "output_type": "stream",
     "name": "stdout",
     "text": "{'_id': ObjectId('5f2587c8c7076c448381bf4b'), 'nome': 'maria', 'idade': 23}\n"
    }
   ],
   "source": [
    "print(colecao.find_one())"
   ]
  },
  {
   "cell_type": "code",
   "execution_count": 40,
   "metadata": {
    "tags": []
   },
   "outputs": [
    {
     "output_type": "stream",
     "name": "stdout",
     "text": "{'_id': ObjectId('5f2587c8c7076c448381bf4b'), 'idade': 23, 'nome': 'maria'}\n"
    }
   ],
   "source": [
    "for resultado in colecao.find():\n",
    "    pprint.pprint(resultado)"
   ]
  },
  {
   "cell_type": "code",
   "execution_count": 41,
   "metadata": {},
   "outputs": [],
   "source": [
    "documento = [\n",
    "    {\"nome\": \"jorge\", \"idade\" : 33},\n",
    "    {\"nome\": \"ana\"},\n",
    "    {\"nome\": \"William\", \"endereco\" : \"Avenida Central n. 954\"},\n",
    "    {\"nome\": \"ana\", \"endereco\" : \"Avenida Central n. 954\"},\n",
    "    {\"nome\": \"William\", \"endereco\" : \"Avenida Central n. 954\"},\n",
    "    {\"nome\": \"William\"},\n",
    "]"
   ]
  },
  {
   "cell_type": "code",
   "execution_count": 43,
   "metadata": {
    "tags": []
   },
   "outputs": [
    {
     "output_type": "stream",
     "name": "stdout",
     "text": "[{'idade': 33, 'nome': 'jorge'},\n {'nome': 'ana'},\n {'endereco': 'Avenida Central n. 954', 'nome': 'William'},\n {'endereco': 'Avenida Central n. 954', 'nome': 'ana'},\n {'endereco': 'Avenida Central n. 954', 'nome': 'William'},\n {'nome': 'William'}]\n"
    }
   ],
   "source": [
    "pprint.pprint(documento)"
   ]
  },
  {
   "cell_type": "code",
   "execution_count": 44,
   "metadata": {},
   "outputs": [],
   "source": [
    "resultado = colecao.insert_many(documento)"
   ]
  },
  {
   "cell_type": "code",
   "execution_count": 45,
   "metadata": {
    "tags": []
   },
   "outputs": [
    {
     "output_type": "stream",
     "name": "stdout",
     "text": "<pymongo.results.InsertManyResult object at 0x000001D70E2766C8>\n"
    }
   ],
   "source": [
    "print(resultado)"
   ]
  },
  {
   "cell_type": "code",
   "execution_count": 46,
   "metadata": {
    "tags": []
   },
   "outputs": [
    {
     "output_type": "stream",
     "name": "stdout",
     "text": "{'_id': ObjectId('5f2587c8c7076c448381bf4b'), 'nome': 'maria', 'idade': 23}\n{'_id': ObjectId('5f258b61c7076c448381bf4c'), 'nome': 'jorge', 'idade': 33}\n{'_id': ObjectId('5f258b61c7076c448381bf4d'), 'nome': 'ana'}\n{'_id': ObjectId('5f258b61c7076c448381bf4e'), 'nome': 'William', 'endereco': 'Avenida Central n. 954'}\n{'_id': ObjectId('5f258b61c7076c448381bf4f'), 'nome': 'ana', 'endereco': 'Avenida Central n. 954'}\n{'_id': ObjectId('5f258b61c7076c448381bf50'), 'nome': 'William', 'endereco': 'Avenida Central n. 954'}\n{'_id': ObjectId('5f258b61c7076c448381bf51'), 'nome': 'William'}\n"
    }
   ],
   "source": [
    "for resultado in colecao.find():\n",
    "    print(resultado)"
   ]
  },
  {
   "cell_type": "code",
   "execution_count": 47,
   "metadata": {
    "tags": []
   },
   "outputs": [
    {
     "output_type": "stream",
     "name": "stdout",
     "text": "{'_id': ObjectId('5f2587c8c7076c448381bf4b'), 'nome': 'maria', 'idade': 23}\n{'_id': ObjectId('5f258b61c7076c448381bf4c'), 'nome': 'jorge', 'idade': 33}\n{'_id': ObjectId('5f258b61c7076c448381bf4d'), 'nome': 'ana', 'logradouro': 'Avenida JK', 'num': 345}\n{'_id': ObjectId('5f258b61c7076c448381bf4e'), 'nome': 'William', 'endereco': 'Avenida Central n. 954'}\n{'_id': ObjectId('5f258b61c7076c448381bf4f'), 'nome': 'ana', 'endereco': 'Avenida Central n. 954'}\n{'_id': ObjectId('5f258b61c7076c448381bf50'), 'nome': 'William', 'endereco': 'Avenida Central n. 954'}\n{'_id': ObjectId('5f258b61c7076c448381bf51'), 'nome': 'William'}\n"
    }
   ],
   "source": [
    "condicao = {'nome' : 'ana'}\n",
    "valor = {'$set' : {'logradouro' : 'Avenida JK', 'num' : 345}}\n",
    "\n",
    "colecao.update_one(condicao, valor)\n",
    "\n",
    "for resultado in colecao.find():\n",
    "    print(resultado)"
   ]
  },
  {
   "cell_type": "code",
   "execution_count": 48,
   "metadata": {
    "tags": []
   },
   "outputs": [
    {
     "output_type": "stream",
     "name": "stdout",
     "text": "{'_id': ObjectId('5f258b61c7076c448381bf4d'), 'nome': 'ana', 'logradouro': 'Avenida JK', 'num': 345}\n{'_id': ObjectId('5f258b61c7076c448381bf4f'), 'nome': 'ana', 'endereco': 'Avenida Central n. 954'}\n"
    }
   ],
   "source": [
    "for resultado in colecao.find({ 'nome' : 'ana'}):\n",
    "    print(resultado)"
   ]
  },
  {
   "cell_type": "code",
   "execution_count": 49,
   "metadata": {
    "tags": []
   },
   "outputs": [
    {
     "output_type": "stream",
     "name": "stdout",
     "text": "{'_id': ObjectId('5f258b61c7076c448381bf4e'), 'nome': 'William', 'endereco': 'Avenida Central n. 954'}\n{'_id': ObjectId('5f258b61c7076c448381bf50'), 'nome': 'William', 'endereco': 'Avenida Central n. 954'}\n{'_id': ObjectId('5f258b61c7076c448381bf51'), 'nome': 'William'}\n"
    }
   ],
   "source": [
    "for resultado in colecao.find({'nome' : 'William'}):\n",
    "    print(resultado)"
   ]
  },
  {
   "cell_type": "code",
   "execution_count": 50,
   "metadata": {},
   "outputs": [
    {
     "output_type": "execute_result",
     "data": {
      "text/plain": "<pymongo.results.DeleteResult at 0x1d70e095b08>"
     },
     "metadata": {},
     "execution_count": 50
    }
   ],
   "source": [
    "condicao = {'nome' : 'William'}\n",
    "colecao.delete_one(condicao)"
   ]
  },
  {
   "cell_type": "code",
   "execution_count": 51,
   "metadata": {
    "tags": []
   },
   "outputs": [
    {
     "output_type": "stream",
     "name": "stdout",
     "text": "{'_id': ObjectId('5f258b61c7076c448381bf50'), 'nome': 'William', 'endereco': 'Avenida Central n. 954'}\n{'_id': ObjectId('5f258b61c7076c448381bf51'), 'nome': 'William'}\n"
    }
   ],
   "source": [
    "for resultado in colecao.find({'nome' : 'William'}):\n",
    "    print(resultado)"
   ]
  },
  {
   "cell_type": "code",
   "execution_count": 52,
   "metadata": {},
   "outputs": [
    {
     "output_type": "execute_result",
     "data": {
      "text/plain": "<pymongo.results.DeleteResult at 0x1d70e08a548>"
     },
     "metadata": {},
     "execution_count": 52
    }
   ],
   "source": [
    "condicao = {'nome' : 'William'}\n",
    "colecao.delete_many(condicao)"
   ]
  },
  {
   "cell_type": "code",
   "execution_count": 53,
   "metadata": {
    "tags": []
   },
   "outputs": [
    {
     "output_type": "stream",
     "name": "stdout",
     "text": "{'_id': ObjectId('5f2587c8c7076c448381bf4b'), 'nome': 'maria', 'idade': 23}\n{'_id': ObjectId('5f258b61c7076c448381bf4c'), 'nome': 'jorge', 'idade': 33}\n{'_id': ObjectId('5f258b61c7076c448381bf4d'), 'nome': 'ana', 'logradouro': 'Avenida JK', 'num': 345}\n{'_id': ObjectId('5f258b61c7076c448381bf4f'), 'nome': 'ana', 'endereco': 'Avenida Central n. 954'}\n"
    }
   ],
   "source": [
    "for resultado in colecao.find():\n",
    "    print(resultado)"
   ]
  }
 ],
 "metadata": {
  "kernelspec": {
   "display_name": "Python 3",
   "language": "python",
   "name": "python3"
  },
  "language_info": {
   "codemirror_mode": {
    "name": "ipython",
    "version": 3
   },
   "file_extension": ".py",
   "mimetype": "text/x-python",
   "name": "python",
   "nbconvert_exporter": "python",
   "pygments_lexer": "ipython3",
   "version": "3.7.1"
  }
 },
 "nbformat": 4,
 "nbformat_minor": 4
}