{
 "cells": [
  {
   "cell_type": "code",
   "execution_count": 1,
   "metadata": {},
   "outputs": [],
   "source": [
    "import tweepy\n",
    "import pandas as pd\n",
    "import numpy as np"
   ]
  },
  {
   "cell_type": "code",
   "execution_count": 2,
   "metadata": {},
   "outputs": [],
   "source": [
    "consumer_key = ''\n",
    "consumer_secret = ''\n",
    "access_token = ''\n",
    "access_token_secret = ''"
   ]
  },
  {
   "cell_type": "code",
   "execution_count": 3,
   "metadata": {},
   "outputs": [],
   "source": [
    "auth = tweepy.OAuthHandler(consumer_key, consumer_secret)\n",
    "auth.set_access_token(access_token, access_token_secret)\n",
    "\n",
    "api = tweepy.API(auth, wait_on_rate_limit=True, \n",
    "                   wait_on_rate_limit_notify=True, retry_count=5,\n",
    "                  retry_delay=10)"
   ]
  },
  {
   "cell_type": "markdown",
   "metadata": {},
   "source": [
    "#### Coleta de Dados (busca por palavra chave)"
   ]
  },
  {
   "cell_type": "code",
   "execution_count": 4,
   "metadata": {},
   "outputs": [],
   "source": [
    "# Definir listas de armazenamento\n",
    "tweets = []\n",
    "info = []"
   ]
  },
  {
   "cell_type": "code",
   "execution_count": 5,
   "metadata": {},
   "outputs": [],
   "source": [
    "# Definir que palavras (keyword) que deseja pesquisar no Twitter\n",
    "keyword = ('\"home office\" OR \"trabalho remoto\" OR #homeoffice OR #trabalhoremoto')"
   ]
  },
  {
   "cell_type": "markdown",
   "metadata": {},
   "source": [
    "#### Buscar por palavra chave e recuperar os tweets em inglês"
   ]
  },
  {
   "cell_type": "code",
   "execution_count": 6,
   "metadata": {},
   "outputs": [],
   "source": [
    "for tweet in tweepy.Cursor(api.search,\n",
    "                          q=keyword, tweet_mode='extended',\n",
    "                          rpp=18000, result_type='popular', lang='pt', \n",
    "                          include_entities=True).items(18000):\n",
    "    \n",
    "    if 'retweeted_status' in dir(tweet):\n",
    "        aux = tweet.retweeted_status.full_text\n",
    "    else:\n",
    "        aux = tweet.full_text\n",
    "\n",
    "    newtweet = aux.replace(\"\\n\", \" \")\n",
    "\n",
    "    tweets.append(newtweet)\n",
    "    info.append(tweet)"
   ]
  },
  {
   "cell_type": "code",
   "execution_count": 7,
   "metadata": {},
   "outputs": [
    {
     "name": "stdout",
     "output_type": "stream",
     "text": [
      "Total de tweets coletados 15.\n"
     ]
    }
   ],
   "source": [
    "# Para verificar a quantidade de tweets coletado use a função \"len()\"\n",
    "print(\"Total de tweets coletados %s.\" % len(info))"
   ]
  },
  {
   "cell_type": "code",
   "execution_count": 8,
   "metadata": {},
   "outputs": [
    {
     "data": {
      "text/plain": [
       "['Servidora da Caixa perde pai e mãe para Covid-19 após ter home office negado, no DF https://t.co/A3StClKNSB https://t.co/RMbKh7axXI',\n",
       " 'Mais home office para bem formados traz destruição do emprego de baixa qualificação https://t.co/azBXYlItPb',\n",
       " 'Pais de funcionária da Caixa morreram com Covid-19 após banco ter negado home office, diz sindicato (via @radaronline) https://t.co/TGO5siILiy https://t.co/jzMZhATIem',\n",
       " 'O home office tirou algo terrivel que tbm nos fazia bem: o trânsito de volta pra casa. É ótimo não te-lo, óbvio. Mas é preciso encontrar o substituto pro papel que ele cumpria: o de descompressão pós trabalho, o ato de se desligar, de ouvir música, de pensar em outras coisas.',\n",
       " 'Pela normalização desse lookinho no home office! 😂 @zecapagodinho #ÉDeCasa https://t.co/kPeHL1TpQp',\n",
       " 'Pesquisa DataFolha aponta que afazeres domésticos dificultam home office para 64,5% das mulheres. 40% tiveram o sustento da casa em risco. Realidade é ainda mais cruel p/ mulheres pobres e negras.  E os obscurantistas ainda querem censurar o debate sobre desigualdade de gênero?',\n",
       " 'Eu não sou Lady Gaga mas hoje tô 100% cromático! ✨  Você sabia que as cores podem influenciar na sua produtividade no home office? 🌈 Confira as dicas de Cromoterapia aqui → https://t.co/2pxXq2EzdS • #HoróscopoEtc https://t.co/Q5I8WaZ7Ve',\n",
       " 'ATENÇÃO! \"Os indígenas xikrin, de dentro de suas casas, ficam ouvindo o barulho das motosserras e dos tratores derrubando a floresta. Os invasores não fazem home office\". Relato do Instituto @socioambiental em defesa dos povos indígenas no julgamento do STF. #ADPF709',\n",
       " 'Pesquisa aponta que afazeres domésticos dificultam home office para 64,5% das mulheres https://t.co/XtFSrwX2Wy',\n",
       " '#AJustiçaNãoPara ⚖️ Durante o período da pandemia de #Coronavírus, o @STF_oficial mantém suas atividades em regime de trabalho remoto com a entrega de uma efetiva prestação jurisdicional para a sociedade. Confira os números em tempo real --&gt; https://t.co/8besK8SUkK https://t.co/6nGMhhmU9n',\n",
       " 'Hoje, o @TheInterceptBr completa quatro anos. Quais matérias dessa trupe te marcaram nesse tempo?   PS: estamos de home office e não deu para atualizar a foto em 2020. Mas continuamos lindos. https://t.co/SqoxNRmjPs',\n",
       " 'A diminuição do trabalho remoto em atividades não essenciais que poderiam permanecer à distância, em função da flexibilização do distanciamento social, pode agravar ainda mais o cenário de aumento de contágios da Covid.',\n",
       " '💻🖥️| Novas regras para o trabalho remoto são anunciadas pelo @govbr . O objetivo é simplificar regras de gestão e ampliar a adoção do #teletrabalho , com foco na entrega de resultados e redução de despesas administrativas. https://t.co/HEtSWVbTma',\n",
       " '#Trabalho remoto cai pela primeira vez com flexibilização do #distanciamentosocial:  https://t.co/a4hOOWv1ME  O número de pessoas ocupadas que trabalhavam de forma remota no país passou de 8,9 milhões na primeira semana de julho, para 8,2 milhões na segunda semana. #emprego #IBGE https://t.co/S9mnBhKZTX',\n",
       " 'Suecos são convocados a permanecer em home office até 2021 https://t.co/44bg9MRkp7 #G1 https://t.co/ye8FmO0CW5']"
      ]
     },
     "execution_count": 8,
     "metadata": {},
     "output_type": "execute_result"
    }
   ],
   "source": [
    "tweets"
   ]
  },
  {
   "cell_type": "code",
   "execution_count": 9,
   "metadata": {},
   "outputs": [],
   "source": [
    "file = open('tweets_keyword_desafio.txt', 'a', -1, 'utf-8')\n",
    "for tweet in tweets:\n",
    "    file.write(tweet+\"\\n\")\n",
    "file.close()"
   ]
  },
  {
   "cell_type": "markdown",
   "metadata": {},
   "source": [
    "#### Criar dataframe"
   ]
  },
  {
   "cell_type": "code",
   "execution_count": 10,
   "metadata": {},
   "outputs": [],
   "source": [
    "tweets_df = pd.DataFrame(tweets, columns=['Tweets'])\n",
    "\n",
    "tweets_df['len'] = np.array([len(tweet) for tweet in tweets])\n",
    "tweets_df['ID'] = np.array([tweet.id for tweet in info])\n",
    "tweets_df['USER'] = np.array([tweet.user for tweet in info])\n",
    "tweets_df['userName'] = np.array([tweet.user.name for tweet in info])\n",
    "tweets_df['User Location'] = np.array([tweet.user.location for tweet in info])\n",
    "tweets_df['Language'] = np.array([tweet.user.lang for tweet in info])\n",
    "tweets_df['Date'] = np.array([tweet.created_at for tweet in info])\n",
    "tweets_df['Source'] = np.array([tweet.source for tweet in info])\n",
    "tweets_df['Likes'] = np.array([tweet.favorite_count for tweet in info])\n",
    "tweets_df['Retweets'] = np.array([tweet.retweet_count for tweet in info])\n",
    "tweets_df['Geo'] = np.array([tweet.geo for tweet in info])\n",
    "tweets_df['Coordinates'] = np.array([tweet.coordinates for tweet in info])\n",
    "tweets_df['Place'] = np.array([tweet.place for tweet in info])\n",
    "\n",
    "tweets_df.to_csv('tweets18000_keyword_HomeOffice.csv')"
   ]
  },
  {
   "cell_type": "code",
   "execution_count": 11,
   "metadata": {},
   "outputs": [
    {
     "data": {
      "text/html": [
       "<div>\n",
       "<style scoped>\n",
       "    .dataframe tbody tr th:only-of-type {\n",
       "        vertical-align: middle;\n",
       "    }\n",
       "\n",
       "    .dataframe tbody tr th {\n",
       "        vertical-align: top;\n",
       "    }\n",
       "\n",
       "    .dataframe thead th {\n",
       "        text-align: right;\n",
       "    }\n",
       "</style>\n",
       "<table border=\"1\" class=\"dataframe\">\n",
       "  <thead>\n",
       "    <tr style=\"text-align: right;\">\n",
       "      <th></th>\n",
       "      <th>Tweets</th>\n",
       "      <th>len</th>\n",
       "      <th>ID</th>\n",
       "      <th>USER</th>\n",
       "      <th>userName</th>\n",
       "      <th>User Location</th>\n",
       "      <th>Language</th>\n",
       "      <th>Date</th>\n",
       "      <th>Source</th>\n",
       "      <th>Likes</th>\n",
       "      <th>Retweets</th>\n",
       "      <th>Geo</th>\n",
       "      <th>Coordinates</th>\n",
       "      <th>Place</th>\n",
       "    </tr>\n",
       "  </thead>\n",
       "  <tbody>\n",
       "    <tr>\n",
       "      <th>0</th>\n",
       "      <td>Servidora da Caixa perde pai e mãe para Covid-...</td>\n",
       "      <td>131</td>\n",
       "      <td>1291912278313299969</td>\n",
       "      <td>User(_api=&lt;tweepy.api.API object at 0x000001C7...</td>\n",
       "      <td>Jornal Extra</td>\n",
       "      <td>Brasil</td>\n",
       "      <td>None</td>\n",
       "      <td>2020-08-08 01:41:04</td>\n",
       "      <td>dlvr.it</td>\n",
       "      <td>62</td>\n",
       "      <td>29</td>\n",
       "      <td>None</td>\n",
       "      <td>None</td>\n",
       "      <td>None</td>\n",
       "    </tr>\n",
       "    <tr>\n",
       "      <th>1</th>\n",
       "      <td>Mais home office para bem formados traz destru...</td>\n",
       "      <td>107</td>\n",
       "      <td>1291568759556235266</td>\n",
       "      <td>User(_api=&lt;tweepy.api.API object at 0x000001C7...</td>\n",
       "      <td>Folha de S.Paulo</td>\n",
       "      <td>São Paulo, Brazil</td>\n",
       "      <td>None</td>\n",
       "      <td>2020-08-07 02:56:03</td>\n",
       "      <td>Folha com welcome-app 1.0</td>\n",
       "      <td>138</td>\n",
       "      <td>19</td>\n",
       "      <td>None</td>\n",
       "      <td>None</td>\n",
       "      <td>None</td>\n",
       "    </tr>\n",
       "    <tr>\n",
       "      <th>2</th>\n",
       "      <td>Pais de funcionária da Caixa morreram com Covi...</td>\n",
       "      <td>166</td>\n",
       "      <td>1291520755348287489</td>\n",
       "      <td>User(_api=&lt;tweepy.api.API object at 0x000001C7...</td>\n",
       "      <td>VEJA</td>\n",
       "      <td>Brazil</td>\n",
       "      <td>None</td>\n",
       "      <td>2020-08-06 23:45:18</td>\n",
       "      <td>Twitter Web App</td>\n",
       "      <td>135</td>\n",
       "      <td>25</td>\n",
       "      <td>None</td>\n",
       "      <td>None</td>\n",
       "      <td>None</td>\n",
       "    </tr>\n",
       "    <tr>\n",
       "      <th>3</th>\n",
       "      <td>O home office tirou algo terrivel que tbm nos ...</td>\n",
       "      <td>276</td>\n",
       "      <td>1290392340608307207</td>\n",
       "      <td>User(_api=&lt;tweepy.api.API object at 0x000001C7...</td>\n",
       "      <td>Gabe Simas</td>\n",
       "      <td>gabriel@gabrielsimas.com</td>\n",
       "      <td>None</td>\n",
       "      <td>2020-08-03 21:01:22</td>\n",
       "      <td>Twitter for iPhone</td>\n",
       "      <td>15395</td>\n",
       "      <td>1427</td>\n",
       "      <td>None</td>\n",
       "      <td>None</td>\n",
       "      <td>None</td>\n",
       "    </tr>\n",
       "    <tr>\n",
       "      <th>4</th>\n",
       "      <td>Pela normalização desse lookinho no home offic...</td>\n",
       "      <td>98</td>\n",
       "      <td>1292045744073998337</td>\n",
       "      <td>User(_api=&lt;tweepy.api.API object at 0x000001C7...</td>\n",
       "      <td>Globo em 🏠</td>\n",
       "      <td></td>\n",
       "      <td>None</td>\n",
       "      <td>2020-08-08 10:31:25</td>\n",
       "      <td>Twitter Web App</td>\n",
       "      <td>71</td>\n",
       "      <td>6</td>\n",
       "      <td>None</td>\n",
       "      <td>None</td>\n",
       "      <td>None</td>\n",
       "    </tr>\n",
       "    <tr>\n",
       "      <th>5</th>\n",
       "      <td>Pesquisa DataFolha aponta que afazeres domésti...</td>\n",
       "      <td>278</td>\n",
       "      <td>1291333447772975106</td>\n",
       "      <td>User(_api=&lt;tweepy.api.API object at 0x000001C7...</td>\n",
       "      <td>Erika Kokay</td>\n",
       "      <td>Brasil, Distrito Federal</td>\n",
       "      <td>None</td>\n",
       "      <td>2020-08-06 11:21:00</td>\n",
       "      <td>Twitter for iPhone</td>\n",
       "      <td>545</td>\n",
       "      <td>108</td>\n",
       "      <td>None</td>\n",
       "      <td>None</td>\n",
       "      <td>None</td>\n",
       "    </tr>\n",
       "    <tr>\n",
       "      <th>6</th>\n",
       "      <td>Eu não sou Lady Gaga mas hoje tô 100% cromátic...</td>\n",
       "      <td>236</td>\n",
       "      <td>1290650054668292100</td>\n",
       "      <td>User(_api=&lt;tweepy.api.API object at 0x000001C7...</td>\n",
       "      <td>Gshow em 🏠</td>\n",
       "      <td></td>\n",
       "      <td>None</td>\n",
       "      <td>2020-08-04 14:05:26</td>\n",
       "      <td>Twitter Web App</td>\n",
       "      <td>846</td>\n",
       "      <td>133</td>\n",
       "      <td>None</td>\n",
       "      <td>None</td>\n",
       "      <td>None</td>\n",
       "    </tr>\n",
       "    <tr>\n",
       "      <th>7</th>\n",
       "      <td>ATENÇÃO! \"Os indígenas xikrin, de dentro de su...</td>\n",
       "      <td>267</td>\n",
       "      <td>1290393301674340352</td>\n",
       "      <td>User(_api=&lt;tweepy.api.API object at 0x000001C7...</td>\n",
       "      <td>Alessandro Molon 🇧🇷</td>\n",
       "      <td>Rio de Janeiro - RJ</td>\n",
       "      <td>None</td>\n",
       "      <td>2020-08-03 21:05:12</td>\n",
       "      <td>TweetDeck</td>\n",
       "      <td>442</td>\n",
       "      <td>77</td>\n",
       "      <td>None</td>\n",
       "      <td>None</td>\n",
       "      <td>None</td>\n",
       "    </tr>\n",
       "    <tr>\n",
       "      <th>8</th>\n",
       "      <td>Pesquisa aponta que afazeres domésticos dificu...</td>\n",
       "      <td>110</td>\n",
       "      <td>1291404027255828481</td>\n",
       "      <td>User(_api=&lt;tweepy.api.API object at 0x000001C7...</td>\n",
       "      <td>Mauro Paulino</td>\n",
       "      <td>São Paulo</td>\n",
       "      <td>None</td>\n",
       "      <td>2020-08-06 16:01:27</td>\n",
       "      <td>Twitter for iPad</td>\n",
       "      <td>97</td>\n",
       "      <td>19</td>\n",
       "      <td>None</td>\n",
       "      <td>None</td>\n",
       "      <td>None</td>\n",
       "    </tr>\n",
       "    <tr>\n",
       "      <th>9</th>\n",
       "      <td>#AJustiçaNãoPara ⚖️ Durante o período da pande...</td>\n",
       "      <td>292</td>\n",
       "      <td>1289315174298423297</td>\n",
       "      <td>User(_api=&lt;tweepy.api.API object at 0x000001C7...</td>\n",
       "      <td>STF</td>\n",
       "      <td>Brasília - DF</td>\n",
       "      <td>None</td>\n",
       "      <td>2020-07-31 21:41:06</td>\n",
       "      <td>Twitter Web App</td>\n",
       "      <td>206</td>\n",
       "      <td>36</td>\n",
       "      <td>None</td>\n",
       "      <td>None</td>\n",
       "      <td>None</td>\n",
       "    </tr>\n",
       "    <tr>\n",
       "      <th>10</th>\n",
       "      <td>Hoje, o @TheInterceptBr completa quatro anos. ...</td>\n",
       "      <td>215</td>\n",
       "      <td>1289928334630166529</td>\n",
       "      <td>User(_api=&lt;tweepy.api.API object at 0x000001C7...</td>\n",
       "      <td>Juliana Gonçalves</td>\n",
       "      <td>Rio de Janeiro</td>\n",
       "      <td>None</td>\n",
       "      <td>2020-08-02 14:17:35</td>\n",
       "      <td>Twitter Web App</td>\n",
       "      <td>1056</td>\n",
       "      <td>42</td>\n",
       "      <td>None</td>\n",
       "      <td>None</td>\n",
       "      <td>None</td>\n",
       "    </tr>\n",
       "    <tr>\n",
       "      <th>11</th>\n",
       "      <td>A diminuição do trabalho remoto em atividades ...</td>\n",
       "      <td>219</td>\n",
       "      <td>1289284485205258243</td>\n",
       "      <td>User(_api=&lt;tweepy.api.API object at 0x000001C7...</td>\n",
       "      <td>Marina Silva</td>\n",
       "      <td>Brasil</td>\n",
       "      <td>None</td>\n",
       "      <td>2020-07-31 19:39:09</td>\n",
       "      <td>Twitter Web App</td>\n",
       "      <td>289</td>\n",
       "      <td>23</td>\n",
       "      <td>None</td>\n",
       "      <td>None</td>\n",
       "      <td>None</td>\n",
       "    </tr>\n",
       "    <tr>\n",
       "      <th>12</th>\n",
       "      <td>💻🖥️| Novas regras para o trabalho remoto são a...</td>\n",
       "      <td>246</td>\n",
       "      <td>1289184537642246144</td>\n",
       "      <td>User(_api=&lt;tweepy.api.API object at 0x000001C7...</td>\n",
       "      <td>TV BrasilGov</td>\n",
       "      <td>Brasília - DF</td>\n",
       "      <td>None</td>\n",
       "      <td>2020-07-31 13:02:00</td>\n",
       "      <td>Twitter Web App</td>\n",
       "      <td>60</td>\n",
       "      <td>23</td>\n",
       "      <td>None</td>\n",
       "      <td>None</td>\n",
       "      <td>None</td>\n",
       "    </tr>\n",
       "    <tr>\n",
       "      <th>13</th>\n",
       "      <td>#Trabalho remoto cai pela primeira vez com fle...</td>\n",
       "      <td>304</td>\n",
       "      <td>1289178390293934080</td>\n",
       "      <td>User(_api=&lt;tweepy.api.API object at 0x000001C7...</td>\n",
       "      <td>IBGE Comunica</td>\n",
       "      <td>Brasil</td>\n",
       "      <td>None</td>\n",
       "      <td>2020-07-31 12:37:34</td>\n",
       "      <td>Twitter Web App</td>\n",
       "      <td>31</td>\n",
       "      <td>17</td>\n",
       "      <td>None</td>\n",
       "      <td>None</td>\n",
       "      <td>None</td>\n",
       "    </tr>\n",
       "    <tr>\n",
       "      <th>14</th>\n",
       "      <td>Suecos são convocados a permanecer em home off...</td>\n",
       "      <td>110</td>\n",
       "      <td>1289017939379724291</td>\n",
       "      <td>User(_api=&lt;tweepy.api.API object at 0x000001C7...</td>\n",
       "      <td>G1</td>\n",
       "      <td>Brasil</td>\n",
       "      <td>None</td>\n",
       "      <td>2020-07-31 02:00:00</td>\n",
       "      <td>TweetDeck</td>\n",
       "      <td>590</td>\n",
       "      <td>28</td>\n",
       "      <td>None</td>\n",
       "      <td>None</td>\n",
       "      <td>None</td>\n",
       "    </tr>\n",
       "  </tbody>\n",
       "</table>\n",
       "</div>"
      ],
      "text/plain": [
       "                                               Tweets  len  \\\n",
       "0   Servidora da Caixa perde pai e mãe para Covid-...  131   \n",
       "1   Mais home office para bem formados traz destru...  107   \n",
       "2   Pais de funcionária da Caixa morreram com Covi...  166   \n",
       "3   O home office tirou algo terrivel que tbm nos ...  276   \n",
       "4   Pela normalização desse lookinho no home offic...   98   \n",
       "5   Pesquisa DataFolha aponta que afazeres domésti...  278   \n",
       "6   Eu não sou Lady Gaga mas hoje tô 100% cromátic...  236   \n",
       "7   ATENÇÃO! \"Os indígenas xikrin, de dentro de su...  267   \n",
       "8   Pesquisa aponta que afazeres domésticos dificu...  110   \n",
       "9   #AJustiçaNãoPara ⚖️ Durante o período da pande...  292   \n",
       "10  Hoje, o @TheInterceptBr completa quatro anos. ...  215   \n",
       "11  A diminuição do trabalho remoto em atividades ...  219   \n",
       "12  💻🖥️| Novas regras para o trabalho remoto são a...  246   \n",
       "13  #Trabalho remoto cai pela primeira vez com fle...  304   \n",
       "14  Suecos são convocados a permanecer em home off...  110   \n",
       "\n",
       "                     ID                                               USER  \\\n",
       "0   1291912278313299969  User(_api=<tweepy.api.API object at 0x000001C7...   \n",
       "1   1291568759556235266  User(_api=<tweepy.api.API object at 0x000001C7...   \n",
       "2   1291520755348287489  User(_api=<tweepy.api.API object at 0x000001C7...   \n",
       "3   1290392340608307207  User(_api=<tweepy.api.API object at 0x000001C7...   \n",
       "4   1292045744073998337  User(_api=<tweepy.api.API object at 0x000001C7...   \n",
       "5   1291333447772975106  User(_api=<tweepy.api.API object at 0x000001C7...   \n",
       "6   1290650054668292100  User(_api=<tweepy.api.API object at 0x000001C7...   \n",
       "7   1290393301674340352  User(_api=<tweepy.api.API object at 0x000001C7...   \n",
       "8   1291404027255828481  User(_api=<tweepy.api.API object at 0x000001C7...   \n",
       "9   1289315174298423297  User(_api=<tweepy.api.API object at 0x000001C7...   \n",
       "10  1289928334630166529  User(_api=<tweepy.api.API object at 0x000001C7...   \n",
       "11  1289284485205258243  User(_api=<tweepy.api.API object at 0x000001C7...   \n",
       "12  1289184537642246144  User(_api=<tweepy.api.API object at 0x000001C7...   \n",
       "13  1289178390293934080  User(_api=<tweepy.api.API object at 0x000001C7...   \n",
       "14  1289017939379724291  User(_api=<tweepy.api.API object at 0x000001C7...   \n",
       "\n",
       "               userName             User Location Language  \\\n",
       "0          Jornal Extra                    Brasil     None   \n",
       "1      Folha de S.Paulo         São Paulo, Brazil     None   \n",
       "2                  VEJA                    Brazil     None   \n",
       "3            Gabe Simas  gabriel@gabrielsimas.com     None   \n",
       "4            Globo em 🏠                               None   \n",
       "5           Erika Kokay  Brasil, Distrito Federal     None   \n",
       "6            Gshow em 🏠                               None   \n",
       "7   Alessandro Molon 🇧🇷       Rio de Janeiro - RJ     None   \n",
       "8         Mauro Paulino                 São Paulo     None   \n",
       "9                   STF             Brasília - DF     None   \n",
       "10    Juliana Gonçalves            Rio de Janeiro     None   \n",
       "11         Marina Silva                    Brasil     None   \n",
       "12         TV BrasilGov             Brasília - DF     None   \n",
       "13        IBGE Comunica                    Brasil     None   \n",
       "14                   G1                    Brasil     None   \n",
       "\n",
       "                  Date                     Source  Likes  Retweets   Geo  \\\n",
       "0  2020-08-08 01:41:04                    dlvr.it     62        29  None   \n",
       "1  2020-08-07 02:56:03  Folha com welcome-app 1.0    138        19  None   \n",
       "2  2020-08-06 23:45:18            Twitter Web App    135        25  None   \n",
       "3  2020-08-03 21:01:22         Twitter for iPhone  15395      1427  None   \n",
       "4  2020-08-08 10:31:25            Twitter Web App     71         6  None   \n",
       "5  2020-08-06 11:21:00         Twitter for iPhone    545       108  None   \n",
       "6  2020-08-04 14:05:26            Twitter Web App    846       133  None   \n",
       "7  2020-08-03 21:05:12                  TweetDeck    442        77  None   \n",
       "8  2020-08-06 16:01:27           Twitter for iPad     97        19  None   \n",
       "9  2020-07-31 21:41:06            Twitter Web App    206        36  None   \n",
       "10 2020-08-02 14:17:35            Twitter Web App   1056        42  None   \n",
       "11 2020-07-31 19:39:09            Twitter Web App    289        23  None   \n",
       "12 2020-07-31 13:02:00            Twitter Web App     60        23  None   \n",
       "13 2020-07-31 12:37:34            Twitter Web App     31        17  None   \n",
       "14 2020-07-31 02:00:00                  TweetDeck    590        28  None   \n",
       "\n",
       "   Coordinates Place  \n",
       "0         None  None  \n",
       "1         None  None  \n",
       "2         None  None  \n",
       "3         None  None  \n",
       "4         None  None  \n",
       "5         None  None  \n",
       "6         None  None  \n",
       "7         None  None  \n",
       "8         None  None  \n",
       "9         None  None  \n",
       "10        None  None  \n",
       "11        None  None  \n",
       "12        None  None  \n",
       "13        None  None  \n",
       "14        None  None  "
      ]
     },
     "execution_count": 11,
     "metadata": {},
     "output_type": "execute_result"
    }
   ],
   "source": [
    "tweets_df"
   ]
  },
  {
   "cell_type": "markdown",
   "metadata": {},
   "source": [
    "#### Identificar Top Tweets coletados"
   ]
  },
  {
   "cell_type": "code",
   "execution_count": 12,
   "metadata": {},
   "outputs": [
    {
     "name": "stdout",
     "output_type": "stream",
     "text": [
      "O tweet com mais curtidas (likes) é: \n",
      "O home office tirou algo terrivel que tbm nos fazia bem: o trânsito de volta pra casa. É ótimo não te-lo, óbvio. Mas é preciso encontrar o substituto pro papel que ele cumpria: o de descompressão pós trabalho, o ato de se desligar, de ouvir música, de pensar em outras coisas.\n",
      "Número de curtidas: 15395\n"
     ]
    }
   ],
   "source": [
    "# Tweets com maior número de Likes\n",
    "likes_max = np.max(tweets_df['Likes'])\n",
    "\n",
    "# pega o primeiro tweet com o valor máximo\n",
    "likes = tweets_df[tweets_df.Likes == likes_max].index[0] \n",
    "\n",
    "print(\"O tweet com mais curtidas (likes) é: \\n{}\".format(tweets_df['Tweets'][likes]))\n",
    "print(\"Número de curtidas: {}\".format(likes_max))"
   ]
  },
  {
   "cell_type": "code",
   "execution_count": 13,
   "metadata": {},
   "outputs": [
    {
     "name": "stdout",
     "output_type": "stream",
     "text": [
      "1\n"
     ]
    }
   ],
   "source": [
    "# Conta quantos tweets possuem o mesmo valor máximo\n",
    "print (np.sum(tweets_df['Likes'] == likes_max)) "
   ]
  },
  {
   "cell_type": "code",
   "execution_count": 14,
   "metadata": {},
   "outputs": [
    {
     "name": "stdout",
     "output_type": "stream",
     "text": [
      "O tweet com mais retweets é: \n",
      "O home office tirou algo terrivel que tbm nos fazia bem: o trânsito de volta pra casa. É ótimo não te-lo, óbvio. Mas é preciso encontrar o substituto pro papel que ele cumpria: o de descompressão pós trabalho, o ato de se desligar, de ouvir música, de pensar em outras coisas.\n",
      "Número de retweets: 1427\n"
     ]
    }
   ],
   "source": [
    "# Retorna valor máximo de retweets\n",
    "retweet_max = np.max(tweets_df['Retweets'])\n",
    "\n",
    "# Pega o primeiro tweet com valor máximo de retweets\n",
    "retweet = tweets_df[tweets_df.Retweets == retweet_max].index[0]\n",
    "\n",
    "print('O tweet com mais retweets é: \\n{}'.format(tweets_df['Tweets'][retweet]))\n",
    "print('Número de retweets: {}'.format(retweet_max))"
   ]
  },
  {
   "cell_type": "code",
   "execution_count": 15,
   "metadata": {},
   "outputs": [
    {
     "name": "stdout",
     "output_type": "stream",
     "text": [
      "1\n"
     ]
    }
   ],
   "source": [
    "print(np.sum(tweets_df['Retweets'] == retweet_max))"
   ]
  },
  {
   "cell_type": "markdown",
   "metadata": {},
   "source": [
    "#### Identifica a font dos Tweets"
   ]
  },
  {
   "cell_type": "code",
   "execution_count": 16,
   "metadata": {},
   "outputs": [],
   "source": [
    "sources = []\n",
    "for source in tweets_df['Source']:\n",
    "    if source not in sources:\n",
    "        sources.append(source)\n",
    "\n",
    "# Retorna um novo vetor, com o númro de elementos do vetor sources\n",
    "percent = np.zeros(len(sources))\n",
    "\n",
    "for source in tweets_df['Source']:\n",
    "    for index in range(len(sources)):\n",
    "        if source == sources[index]:\n",
    "            percent[index] += 1\n",
    "            pass"
   ]
  },
  {
   "cell_type": "markdown",
   "metadata": {},
   "source": [
    "#### Gráfico que exite o número de tweets por font"
   ]
  },
  {
   "cell_type": "code",
   "execution_count": 17,
   "metadata": {
    "scrolled": true
   },
   "outputs": [
    {
     "data": {
      "text/html": [
       "<div>\n",
       "<style scoped>\n",
       "    .dataframe tbody tr th:only-of-type {\n",
       "        vertical-align: middle;\n",
       "    }\n",
       "\n",
       "    .dataframe tbody tr th {\n",
       "        vertical-align: top;\n",
       "    }\n",
       "\n",
       "    .dataframe thead th {\n",
       "        text-align: right;\n",
       "    }\n",
       "</style>\n",
       "<table border=\"1\" class=\"dataframe\">\n",
       "  <thead>\n",
       "    <tr style=\"text-align: right;\">\n",
       "      <th></th>\n",
       "      <th>source</th>\n",
       "    </tr>\n",
       "  </thead>\n",
       "  <tbody>\n",
       "    <tr>\n",
       "      <th>dlvr.it</th>\n",
       "      <td>1.0</td>\n",
       "    </tr>\n",
       "    <tr>\n",
       "      <th>Folha com welcome-app 1.0</th>\n",
       "      <td>1.0</td>\n",
       "    </tr>\n",
       "    <tr>\n",
       "      <th>Twitter Web App</th>\n",
       "      <td>8.0</td>\n",
       "    </tr>\n",
       "    <tr>\n",
       "      <th>Twitter for iPhone</th>\n",
       "      <td>2.0</td>\n",
       "    </tr>\n",
       "    <tr>\n",
       "      <th>TweetDeck</th>\n",
       "      <td>2.0</td>\n",
       "    </tr>\n",
       "    <tr>\n",
       "      <th>Twitter for iPad</th>\n",
       "      <td>1.0</td>\n",
       "    </tr>\n",
       "  </tbody>\n",
       "</table>\n",
       "</div>"
      ],
      "text/plain": [
       "                           source\n",
       "dlvr.it                       1.0\n",
       "Folha com welcome-app 1.0     1.0\n",
       "Twitter Web App               8.0\n",
       "Twitter for iPhone            2.0\n",
       "TweetDeck                     2.0\n",
       "Twitter for iPad              1.0"
      ]
     },
     "execution_count": 17,
     "metadata": {},
     "output_type": "execute_result"
    }
   ],
   "source": [
    "sourceDF = pd.DataFrame({\n",
    "    'source' : percent,\n",
    "}, index=sources)\n",
    "\n",
    "sourceDF"
   ]
  },
  {
   "cell_type": "code",
   "execution_count": 18,
   "metadata": {},
   "outputs": [],
   "source": [
    "# Pacatos para visualização\n",
    "import matplotlib.pyplot as plt"
   ]
  },
  {
   "cell_type": "code",
   "execution_count": 19,
   "metadata": {},
   "outputs": [
    {
     "data": {
      "image/png": "[encoded data removed]",
      "text/plain": [
       "<Figure size 432x288 with 1 Axes>"
      ]
     },
     "metadata": {
      "needs_background": "light"
     },
     "output_type": "display_data"
    }
   ],
   "source": [
    "sources_sorted = sourceDF.sort_values('source', ascending=True)\n",
    "ax = sources_sorted.source.plot(kind='barh', color='#A52A2A')\n",
    "ax.get_xaxis().set_major_formatter(plt.FuncFormatter(lambda x, loc: \"{:,}\".format(int(x))))"
   ]
  },
  {
   "cell_type": "code",
   "execution_count": 20,
   "metadata": {},
   "outputs": [
    {
     "data": {
      "image/png": "[encoded data removed]",
      "text/plain": [
       "<Figure size 432x288 with 1 Axes>"
      ]
     },
     "metadata": {
      "needs_background": "light"
     },
     "output_type": "display_data"
    }
   ],
   "source": [
    "sources_sorted = sourceDF.sort_values('source', ascending=False)\n",
    "ax = sources_sorted.source.plot(kind='barh', color='#B8860B')\n",
    "ax.get_xaxis().set_major_formatter(plt.FuncFormatter(lambda x, loc: \"{:,}\".format(int(x))))"
   ]
  },
  {
   "cell_type": "markdown",
   "metadata": {},
   "source": [
    "#### Análise de polaridade"
   ]
  },
  {
   "cell_type": "code",
   "execution_count": 21,
   "metadata": {},
   "outputs": [],
   "source": [
    "from textblob import TextBlob as tb"
   ]
  },
  {
   "cell_type": "code",
   "execution_count": 22,
   "metadata": {},
   "outputs": [],
   "source": [
    "analysis = None\n",
    "polarities = []"
   ]
  },
  {
   "cell_type": "markdown",
   "metadata": {},
   "source": [
    "#### Calcula polaridade(sentiment.polarity)"
   ]
  },
  {
   "cell_type": "code",
   "execution_count": 23,
   "metadata": {},
   "outputs": [
    {
     "name": "stdout",
     "output_type": "stream",
     "text": [
      "Texto traduzido Caixa server loses father and mother to Covid-19 after having denied home office in DF https://t.co/A3StClKNSB https://t.co/RMbKh7axXI: \n",
      "Texto traduzido More home office for well-trained people brings destruction of low-skilled jobs https://t.co/azBXYlItPb: \n",
      "Texto traduzido Caixa employee's parents died with Covid-19 after the bank denied home office, says union (via @radaronline) https://t.co/TGO5siILiy https://t.co/jzMZhATIem: \n",
      "Texto traduzido The home office took away something terrible that was also good for us: the traffic back home. It's great not to have it, obviously. But it is necessary to find a substitute for the role he played: that of post-work decompression, the act of disconnecting, listening to music, thinking about other things.: \n",
      "Texto traduzido For the normalization of that look in the home office! 😂 @zecapagodinho # ÉDeCasa https://t.co/kPeHL1TpQp: \n",
      "Texto traduzido Research DataFolha points out that household chores make home office difficult for 64.5% of women. 40% had their livelihood at risk. Reality is even more cruel to poor, black women. And do obscurantists still want to censor the debate on gender inequality?: \n",
      "Texto traduzido I'm not Lady Gaga but today I'm 100% chromatic! ✨ Did you know that colors can influence your productivity in the home office? 🌈 Check out Chromotherapy tips here → https://t.co/2pxXq2EzdS • # HoróscopoEtc https://t.co/Q5I8WaZ7Ve: \n",
      "Texto traduzido ATTENTION! \"The Xikrin indigenous people, from inside their houses, are listening to the noise of chainsaws and tractors cutting down the forest. The invaders do not make a home office.\" Report by the @socioambiental Institute in defense of indigenous peoples in the STF trial. # ADPF709: \n",
      "Texto traduzido Research shows that housework makes home office difficult for 64.5% of women https://t.co/XtFSrwX2Wy: \n",
      "Texto traduzido # AJustiça NãoPara ⚖️ During the pandemic period of # Coronavirus, @STF_oficial maintains its activities in a remote work regime with the delivery of an effective jurisdictional provision for society. Check the numbers in real time - & gt; https://t.co/8besK8SUkK https://t.co/6nGMhhmU9n: \n",
      "Texto traduzido Today, @TheInterceptBr is four years old. What materials from this troupe marked you at that time? PS: we are from home office and it was not possible to update the photo in 2020. But we are still beautiful. https://t.co/SqoxNRmjPs: \n",
      "Texto traduzido The decrease in remote work in non-essential activities that could remain at a distance, due to the easing of social distance, can further aggravate the scenario of increased contagion at Covid.: \n",
      "Texto traduzido 💻🖥️ | New rules for remote work are announced by @govbr. The objective is to simplify management rules and expand the adoption of #teleworking, with a focus on delivering results and reducing administrative expenses. https://t.co/HEtSWVbTma: \n",
      "Texto traduzido #Remote work falls for the first time with flexibilization of #distanciamentosocial: https://t.co/a4hOOWv1ME The number of employed people who worked remotely in the country went from 8.9 million in the first week of July, to 8.2 million in the second week. #employment #IBGE https://t.co/S9mnBhKZTX: \n",
      "Texto traduzido Swedes are asked to stay in home office until 2021 https://t.co/44bg9MRkp7 # G1 https://t.co/ye8FmO0CW5: \n"
     ]
    }
   ],
   "source": [
    "for tweet in tweets_df['Tweets']:\n",
    "    analysis = tb(tweet)\n",
    "    \n",
    "    if analysis.detect_language() != 'en':\n",
    "        traducao = tb(str(analysis.translate(to='en')))\n",
    "        print('Texto traduzido %s: ' % traducao)\n",
    "        polarity = traducao.sentiment.polarity\n",
    "    else:\n",
    "        polarity = analysis.sentiment.polarity\n",
    "        \n",
    "    polarities.append(polarity)"
   ]
  },
  {
   "cell_type": "code",
   "execution_count": 24,
   "metadata": {
    "scrolled": true
   },
   "outputs": [
    {
     "name": "stdout",
     "output_type": "stream",
     "text": [
      "Vetor de polaridade: [-0.3, 0.5, 0.0, 0.05357142857142857, 0.0, -0.31333333333333335, 0.0, -0.37777777777777777, -0.5, 0.2333333333333333, 0.2625, -0.04791666666666667, 0.012121212121212116, 0.06, 0.0]\n"
     ]
    }
   ],
   "source": [
    "print('Vetor de polaridade:', polarities)"
   ]
  },
  {
   "cell_type": "code",
   "execution_count": 25,
   "metadata": {},
   "outputs": [
    {
     "name": "stdout",
     "output_type": "stream",
     "text": [
      "Média de Sentimento:  -0.02783345358345359\n"
     ]
    }
   ],
   "source": [
    "print('Média de Sentimento: ', str(np.mean(polarities)))"
   ]
  },
  {
   "cell_type": "markdown",
   "metadata": {},
   "source": [
    "#### Análise de Sentimentos"
   ]
  },
  {
   "cell_type": "code",
   "execution_count": 26,
   "metadata": {},
   "outputs": [
    {
     "name": "stdout",
     "output_type": "stream",
     "text": [
      "Para a(s) palavra(s): \"\"home office\" OR \"trabalho remoto\" OR #homeoffice OR #trabalhoremoto\"\n",
      "A média de sentimento é: -0.02783345358345359\n"
     ]
    }
   ],
   "source": [
    "print('Para a(s) palavra(s): \"%s\"' % keyword)\n",
    "print('A média de sentimento é: ' + str(np.mean(polarities)))"
   ]
  },
  {
   "cell_type": "code",
   "execution_count": 27,
   "metadata": {},
   "outputs": [],
   "source": [
    "positive = 0\n",
    "negative = 0\n",
    "neutral = 0\n",
    "\n",
    "for p in polarities:\n",
    "    if p > 0:\n",
    "        positive = positive + 1\n",
    "    elif p < 0:\n",
    "        negative = negative + 1\n",
    "    else:\n",
    "        neutral = neutral + 1\n",
    "        \n",
    "# Calcula o percentual\n",
    "pos_pct = positive * 100 / len(polarities)\n",
    "neg_pct = negative * 100 / len(polarities)\n",
    "neu_pct = neutral * 100 / len(polarities)"
   ]
  },
  {
   "cell_type": "code",
   "execution_count": 28,
   "metadata": {},
   "outputs": [
    {
     "data": {
      "text/plain": [
       "[40.0, 33.333333333333336, 26.666666666666668]"
      ]
     },
     "execution_count": 28,
     "metadata": {},
     "output_type": "execute_result"
    }
   ],
   "source": [
    "sentiments = ['Positivos', 'Negativos', 'Neutros']\n",
    "percents = [pos_pct, neg_pct, neu_pct]\n",
    "percents"
   ]
  },
  {
   "cell_type": "code",
   "execution_count": 29,
   "metadata": {},
   "outputs": [
    {
     "data": {
      "text/plain": [
       "Positivos    40.000000\n",
       "Negativos    33.333333\n",
       "Neutros      26.666667\n",
       "Name: , dtype: float64"
      ]
     },
     "execution_count": 29,
     "metadata": {},
     "output_type": "execute_result"
    }
   ],
   "source": [
    "pie_chart = pd.Series(percents, index=sentiments, name='')\n",
    "pie_chart"
   ]
  },
  {
   "cell_type": "code",
   "execution_count": 30,
   "metadata": {},
   "outputs": [
    {
     "data": {
      "text/plain": [
       "<AxesSubplot:title={'center':'Análise de Sentimentos Tweets sobre Home Office'}>"
      ]
     },
     "execution_count": 30,
     "metadata": {},
     "output_type": "execute_result"
    },
    {
     "data": {
      "image/png": "[encoded data removed]",
      "text/plain": [
       "<Figure size 360x360 with 1 Axes>"
      ]
     },
     "metadata": {},
     "output_type": "display_data"
    }
   ],
   "source": [
    "pie_chart.plot.pie(fontsize=12, autopct='%.2f%%', figsize=(5,5),\n",
    "                  labels=pie_chart.index, explode=(0.03,0.03,0.03),\n",
    "                  title='Análise de Sentimentos Tweets sobre Home Office')"
   ]
  },
  {
   "cell_type": "markdown",
   "metadata": {},
   "source": [
    "#### Mapa de calor dos tweets"
   ]
  },
  {
   "cell_type": "code",
   "execution_count": 31,
   "metadata": {},
   "outputs": [],
   "source": [
    "from geopy.geocoders import Nominatim\n",
    "from folium import plugins\n",
    "import folium"
   ]
  },
  {
   "cell_type": "code",
   "execution_count": 32,
   "metadata": {},
   "outputs": [],
   "source": [
    "locator = Nominatim(user_agent='TweeterSentiments')\n",
    "exemplo = locator.geocode(\"Uberlândia\")"
   ]
  },
  {
   "cell_type": "code",
   "execution_count": 33,
   "metadata": {},
   "outputs": [
    {
     "data": {
      "text/plain": [
       "Location(Uberlândia, Microrregião Uberlândia, Mesorregião Triângulo Mineiro/Alto Paranaiba, Minas Gerais, Região Sudeste, Brasil, (-18.9188041, -48.2767837, 0.0))"
      ]
     },
     "execution_count": 33,
     "metadata": {},
     "output_type": "execute_result"
    }
   ],
   "source": [
    "exemplo"
   ]
  },
  {
   "cell_type": "code",
   "execution_count": 34,
   "metadata": {},
   "outputs": [
    {
     "data": {
      "text/plain": [
       "-18.9188041"
      ]
     },
     "execution_count": 34,
     "metadata": {},
     "output_type": "execute_result"
    }
   ],
   "source": [
    "exemplo.latitude"
   ]
  },
  {
   "cell_type": "code",
   "execution_count": 35,
   "metadata": {},
   "outputs": [
    {
     "data": {
      "text/plain": [
       "-48.2767837"
      ]
     },
     "execution_count": 35,
     "metadata": {},
     "output_type": "execute_result"
    }
   ],
   "source": [
    "exemplo.longitude"
   ]
  },
  {
   "cell_type": "code",
   "execution_count": 36,
   "metadata": {},
   "outputs": [],
   "source": [
    "geolocator = Nominatim(user_agent='TweeterSentiments')\n",
    "\n",
    "latitude = []\n",
    "longitude = []\n",
    "\n",
    "for user_location in tweets_df['User Location']:\n",
    "    try:\n",
    "        location = geolocator.geocode(user_location)\n",
    "        latitude.append(location.latitude)\n",
    "        longitude.append(location.longitude)\n",
    "    except:\n",
    "        continue"
   ]
  },
  {
   "cell_type": "code",
   "execution_count": 37,
   "metadata": {},
   "outputs": [
    {
     "data": {
      "text/html": [
       "<div style=\"width:100%;\"><div style=\"position:relative;width:100%;height:0;padding-bottom:60%;\"><span style=\"color:#565656\">Make this Notebook Trusted to load map: File -> Trust Notebook</span><iframe src=\"about:blank\" style=\"position:absolute;width:100%;height:100%;left:0;top:0;border:none !important;\" data-html=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 onload=\"this.contentDocument.open();this.contentDocument.write(atob(this.getAttribute('data-html')));this.contentDocument.close();\" allowfullscreen webkitallowfullscreen mozallowfullscreen></iframe></div></div>"
      ],
      "text/plain": [
       "<folium.folium.Map at 0x1c734a4da20>"
      ]
     },
     "execution_count": 37,
     "metadata": {},
     "output_type": "execute_result"
    }
   ],
   "source": [
    "coordenadas = np.column_stack((latitude, longitude))\n",
    "\n",
    "mapa = folium.Map(zoom_start=3.)\n",
    "mapa.add_child(plugins.HeatMap(coordenadas))\n",
    "mapa.save('Mapa_Calor_Home_Office.html')\n",
    "mapa"
   ]
  },
  {
   "cell_type": "markdown",
   "metadata": {},
   "source": [
    "#### Nuvem de palavras"
   ]
  },
  {
   "cell_type": "code",
   "execution_count": 38,
   "metadata": {},
   "outputs": [],
   "source": [
    "from wordcloud import WordCloud, STOPWORDS"
   ]
  },
  {
   "cell_type": "code",
   "execution_count": 39,
   "metadata": {},
   "outputs": [],
   "source": [
    "# Para textos em português\n",
    "stopwords = set(STOPWORDS)"
   ]
  },
  {
   "cell_type": "code",
   "execution_count": 40,
   "metadata": {},
   "outputs": [],
   "source": [
    "# Para textos em inglês\n",
    "words = ' '.join(tweets_df['Tweets'])\n",
    "\n",
    "words_clean = ' '.join([word for word in words.split()\n",
    "                                           if 'https' not in word\n",
    "                                                and not word.startswith('@')\n",
    "                                                and not word.startswith('#')\n",
    "                                                and word != 'RT'\n",
    "                       ])"
   ]
  },
  {
   "cell_type": "code",
   "execution_count": 41,
   "metadata": {},
   "outputs": [
    {
     "data": {
      "image/png": "[encoded data removed]",
      "text/plain": [
       "<Figure size 432x288 with 1 Axes>"
      ]
     },
     "metadata": {
      "needs_background": "light"
     },
     "output_type": "display_data"
    }
   ],
   "source": [
    "import warnings\n",
    "warnings.simplefilter('ignore')\n",
    "\n",
    "wc = WordCloud(\n",
    "    min_font_size=10,\n",
    "    max_font_size=300,\n",
    "    background_color='white',\n",
    "    mode='RGB',\n",
    "    width=2000,\n",
    "    height=1000,\n",
    "    normalize_plurals=True).generate(words_clean)\n",
    "\n",
    "plt.imshow(wc, interpolation='bilinear')\n",
    "plt.axis('off')\n",
    "plt.savefig('home_office.png', dp=300)\n",
    "plt.show()"
   ]
  }
 ],
 "metadata": {
  "kernelspec": {
   "display_name": "Python 3",
   "language": "python",
   "name": "python3"
  },
  "language_info": {
   "codemirror_mode": {
    "name": "ipython",
    "version": 3
   },
   "file_extension": ".py",
   "mimetype": "text/x-python",
   "name": "python",
   "nbconvert_exporter": "python",
   "pygments_lexer": "ipython3",
   "version": "3.7.1"
  }
 },
 "nbformat": 4,
 "nbformat_minor": 4
}
